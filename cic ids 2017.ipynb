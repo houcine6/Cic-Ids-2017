{
 "cells": [
  {
   "cell_type": "code",
   "execution_count": 1,
   "metadata": {},
   "outputs": [],
   "source": [
    "# import libraries\n",
    "import pandas as pd\n",
    "import numpy as np\n",
    "import sys\n",
    "import sklearn\n",
    "import io\n",
    "import random\n",
    "import matplotlib.pyplot as plt\n",
    "import seaborn as sb\n",
    "from sklearn import preprocessing"
   ]
  },
  {
   "cell_type": "code",
   "execution_count": 3,
   "metadata": {},
   "outputs": [],
   "source": [
    "from IPython.display import Image\n",
    "from keras.wrappers.scikit_learn import KerasClassifier\n",
    "from keras.utils import np_utils\n",
    "from sklearn.model_selection import cross_val_score\n",
    "from sklearn.model_selection import KFold\n",
    "from sklearn.pipeline import Pipeline"
   ]
  },
  {
   "attachments": {},
   "cell_type": "markdown",
   "metadata": {},
   "source": [
    "## Loading dataset"
   ]
  },
  {
   "cell_type": "code",
   "execution_count": 1,
   "metadata": {},
   "outputs": [
    {
     "name": "stderr",
     "output_type": "stream",
     "text": [
      "C:\\Users\\dz laptops\\AppData\\Local\\Temp\\ipykernel_892\\3137251049.py:6: DtypeWarning: Columns (0,1,3,6,84) have mixed types. Specify dtype option on import or set low_memory=False.\n",
      "  thur_web = pd.read_csv(\"cic\\Thursday-WorkingHours-Morning-WebAttacks.pcap_ISCX.csv\", encoding=\"ISO-8859-1\")\n"
     ]
    }
   ],
   "source": [
    "import pandas as pd\n",
    "## reading in files\n",
    "mon = pd.read_csv(\"cic\\Monday-WorkingHours.pcap_ISCX.csv\", encoding=\"utf-8\")\n",
    "tues = pd.read_csv(\"cic\\Tuesday-WorkingHours.pcap_ISCX.csv\", encoding=\"utf-8\")\n",
    "wed = pd.read_csv(\"cic\\Wednesday-workingHours.pcap_ISCX.csv\", encoding=\"utf-8\")\n",
    "thur_web = pd.read_csv(\"cic\\Thursday-WorkingHours-Morning-WebAttacks.pcap_ISCX.csv\", encoding=\"ISO-8859-1\") \n",
    "thur_inf = pd.read_csv(\"cic\\Thursday-WorkingHours-Afternoon-Infilteration.pcap_ISCX.csv\", encoding=\"utf-8\")\n",
    "frid_ddos = pd.read_csv(\"cic\\Friday-WorkingHours-Afternoon-DDos.pcap_ISCX.csv\", encoding=\"utf-8\")\n",
    "frid_port = pd.read_csv(\"cic\\Friday-WorkingHours-Afternoon-PortScan.pcap_ISCX.csv\", encoding=\"utf-8\")\n",
    "frid_morn = pd.read_csv(\"cic\\Friday-WorkingHours-Morning.pcap_ISCX.csv\", encoding=\"utf-8\")"
   ]
  },
  {
   "cell_type": "code",
   "execution_count": 2,
   "metadata": {},
   "outputs": [
    {
     "name": "stdout",
     "output_type": "stream",
     "text": [
      "mon DataFrame Shape: (529918, 85)\n",
      "tues DataFrame Shape: (445909, 85)\n",
      "wed DataFrame Shape: (692703, 85)\n",
      "thur_web DataFrame Shape: (458968, 85)\n",
      "thur_inf DataFrame Shape: (288602, 85)\n",
      "frid_ddos DataFrame Shape: (225745, 85)\n",
      "frid_port DataFrame Shape: (286467, 85)\n",
      "frid_morn DataFrame Shape: (191033, 85)\n"
     ]
    }
   ],
   "source": [
    "print(\"mon DataFrame Shape:\", mon.shape)\n",
    "print(\"tues DataFrame Shape:\", tues.shape)\n",
    "print(\"wed DataFrame Shape:\", wed.shape)\n",
    "print(\"thur_web DataFrame Shape:\", thur_web.shape)\n",
    "print(\"thur_inf DataFrame Shape:\", thur_inf.shape)\n",
    "print(\"frid_ddos DataFrame Shape:\", frid_ddos.shape)\n",
    "print(\"frid_port DataFrame Shape:\", frid_port.shape)\n",
    "print(\"frid_morn DataFrame Shape:\", frid_morn.shape)"
   ]
  },
  {
   "cell_type": "code",
   "execution_count": 2,
   "metadata": {},
   "outputs": [
    {
     "data": {
      "text/plain": [
       "Index(['Flow ID', ' Source IP', ' Source Port', ' Destination IP',\n",
       "       ' Destination Port', ' Protocol', ' Timestamp', ' Flow Duration',\n",
       "       ' Total Fwd Packets', ' Total Backward Packets',\n",
       "       'Total Length of Fwd Packets', ' Total Length of Bwd Packets',\n",
       "       ' Fwd Packet Length Max', ' Fwd Packet Length Min',\n",
       "       ' Fwd Packet Length Mean', ' Fwd Packet Length Std',\n",
       "       'Bwd Packet Length Max', ' Bwd Packet Length Min',\n",
       "       ' Bwd Packet Length Mean', ' Bwd Packet Length Std', 'Flow Bytes/s',\n",
       "       ' Flow Packets/s', ' Flow IAT Mean', ' Flow IAT Std', ' Flow IAT Max',\n",
       "       ' Flow IAT Min', 'Fwd IAT Total', ' Fwd IAT Mean', ' Fwd IAT Std',\n",
       "       ' Fwd IAT Max', ' Fwd IAT Min', 'Bwd IAT Total', ' Bwd IAT Mean',\n",
       "       ' Bwd IAT Std', ' Bwd IAT Max', ' Bwd IAT Min', 'Fwd PSH Flags',\n",
       "       ' Bwd PSH Flags', ' Fwd URG Flags', ' Bwd URG Flags',\n",
       "       ' Fwd Header Length', ' Bwd Header Length', 'Fwd Packets/s',\n",
       "       ' Bwd Packets/s', ' Min Packet Length', ' Max Packet Length',\n",
       "       ' Packet Length Mean', ' Packet Length Std', ' Packet Length Variance',\n",
       "       'FIN Flag Count', ' SYN Flag Count', ' RST Flag Count',\n",
       "       ' PSH Flag Count', ' ACK Flag Count', ' URG Flag Count',\n",
       "       ' CWE Flag Count', ' ECE Flag Count', ' Down/Up Ratio',\n",
       "       ' Average Packet Size', ' Avg Fwd Segment Size',\n",
       "       ' Avg Bwd Segment Size', ' Fwd Header Length.1', 'Fwd Avg Bytes/Bulk',\n",
       "       ' Fwd Avg Packets/Bulk', ' Fwd Avg Bulk Rate', ' Bwd Avg Bytes/Bulk',\n",
       "       ' Bwd Avg Packets/Bulk', 'Bwd Avg Bulk Rate', 'Subflow Fwd Packets',\n",
       "       ' Subflow Fwd Bytes', ' Subflow Bwd Packets', ' Subflow Bwd Bytes',\n",
       "       'Init_Win_bytes_forward', ' Init_Win_bytes_backward',\n",
       "       ' act_data_pkt_fwd', ' min_seg_size_forward', 'Active Mean',\n",
       "       ' Active Std', ' Active Max', ' Active Min', 'Idle Mean', ' Idle Std',\n",
       "       ' Idle Max', ' Idle Min', ' Label'],\n",
       "      dtype='object')"
      ]
     },
     "execution_count": 2,
     "metadata": {},
     "output_type": "execute_result"
    }
   ],
   "source": [
    "mon.keys()"
   ]
  },
  {
   "cell_type": "code",
   "execution_count": null,
   "metadata": {},
   "outputs": [],
   "source": [
    "mon.describe()"
   ]
  },
  {
   "cell_type": "code",
   "execution_count": null,
   "metadata": {},
   "outputs": [],
   "source": [
    "### all labels are of numerical type, despite Label column\n",
    "mon.info()  # same format applies to other files"
   ]
  },
  {
   "cell_type": "code",
   "execution_count": 3,
   "metadata": {},
   "outputs": [
    {
     "name": "stdout",
     "output_type": "stream",
     "text": [
      "Label distribution monday set:\n",
      "BENIGN    529918\n",
      "Name:  Label, dtype: int64\n",
      "=================================\n",
      "Label distribution tuesday set:\n",
      "BENIGN         432074\n",
      "FTP-Patator      7938\n",
      "SSH-Patator      5897\n",
      "Name:  Label, dtype: int64\n",
      "=================================\n",
      "Label distribution wednesday set:\n",
      "BENIGN              440031\n",
      "DoS Hulk            231073\n",
      "DoS GoldenEye        10293\n",
      "DoS slowloris         5796\n",
      "DoS Slowhttptest      5499\n",
      "Heartbleed              11\n",
      "Name:  Label, dtype: int64\n",
      "=================================\n",
      "Label distribution thursday web attacks set:\n",
      "BENIGN                        168186\n",
      "Web Attack  Brute Force        1507\n",
      "Web Attack  XSS                 652\n",
      "Web Attack  Sql Injection        21\n",
      "Name:  Label, dtype: int64\n",
      "=================================\n",
      "Label distribution thursday Infilteration set:\n",
      "BENIGN          288566\n",
      "Infiltration        36\n",
      "Name:  Label, dtype: int64\n",
      "=================================\n",
      "Label distribution friday dos set:\n",
      "DDoS      128027\n",
      "BENIGN     97718\n",
      "Name:  Label, dtype: int64\n",
      "=================================\n",
      "Label distribution friday port scan set:\n",
      "PortScan    158930\n",
      "BENIGN      127537\n",
      "Name:  Label, dtype: int64\n",
      "=================================\n",
      "Label distribution friday pcap set:\n",
      "BENIGN    189067\n",
      "Bot         1966\n",
      "Name:  Label, dtype: int64\n",
      "=================================\n"
     ]
    }
   ],
   "source": [
    "print('Label distribution monday set:')\n",
    "print(mon[' Label'].value_counts())\n",
    "print('=================================')\n",
    "\n",
    "print('Label distribution tuesday set:')\n",
    "print(tues[' Label'].value_counts())\n",
    "print('=================================')\n",
    "\n",
    "print('Label distribution wednesday set:')\n",
    "print(wed[' Label'].value_counts())\n",
    "print('=================================')\n",
    "\n",
    "print('Label distribution thursday web attacks set:')\n",
    "print(thur_web[' Label'].value_counts())\n",
    "print('=================================')\n",
    "\n",
    "print('Label distribution thursday Infilteration set:')\n",
    "print(thur_inf[' Label'].value_counts())\n",
    "print('=================================')\n",
    "\n",
    "print('Label distribution friday dos set:')\n",
    "print(frid_ddos[' Label'].value_counts())\n",
    "print('=================================')\n",
    "\n",
    "print('Label distribution friday port scan set:')\n",
    "print(frid_port[' Label'].value_counts())\n",
    "print('=================================')\n",
    "\n",
    "print('Label distribution friday pcap set:')\n",
    "print(frid_morn[' Label'].value_counts())\n",
    "print('=================================')\n"
   ]
  },
  {
   "cell_type": "code",
   "execution_count": 4,
   "metadata": {},
   "outputs": [
    {
     "name": "stdout",
     "output_type": "stream",
     "text": [
      "mon NA values\n"
     ]
    },
    {
     "name": "stdout",
     "output_type": "stream",
     "text": [
      "Flow Bytes/s       437\n",
      " Flow Packets/s    437\n",
      "dtype: int64\n",
      "=====================\n",
      "tues NA values\n",
      "Flow Bytes/s       264\n",
      " Flow Packets/s    264\n",
      "dtype: int64\n",
      "=====================\n",
      "wed NA values\n",
      "Flow Bytes/s       1297\n",
      " Flow Packets/s    1297\n",
      "dtype: int64\n",
      "=====================\n",
      "thur NA values\n",
      "Flow ID              288602\n",
      " Source IP           288602\n",
      " Source Port         288602\n",
      " Destination IP      288602\n",
      " Destination Port    288602\n",
      "                      ...  \n",
      "Idle Mean            288602\n",
      " Idle Std            288602\n",
      " Idle Max            288602\n",
      " Idle Min            288602\n",
      " Label               288602\n",
      "Length: 85, dtype: int64\n",
      "=====================\n",
      "Flow Bytes/s       207\n",
      " Flow Packets/s    207\n",
      "dtype: int64\n",
      "=====================\n",
      "Friday NA values\n",
      "Flow Bytes/s       34\n",
      " Flow Packets/s    34\n",
      "dtype: int64\n",
      "=====================\n",
      "Flow Bytes/s       371\n",
      " Flow Packets/s    371\n",
      "dtype: int64\n",
      "=====================\n",
      "Flow Bytes/s       122\n",
      " Flow Packets/s    122\n",
      "dtype: int64\n"
     ]
    }
   ],
   "source": [
    "# searching for NA values - empty \"\" are not considered NA - but that is of no concern in this dataset \n",
    "pd.options.mode.use_inf_as_na = True ## so that inf is also treated as NA value\n",
    "print(\"mon NA values\")\n",
    "print(mon.loc[:, mon.isnull().any()].isnull().sum())\n",
    "print(\"=====================\")\n",
    "print(\"tues NA values\")\n",
    "print(tues.loc[:, tues.isnull().any()].isnull().sum())\n",
    "print(\"=====================\")\n",
    "print(\"wed NA values\")\n",
    "print(wed.loc[:, wed.isnull().any()].isnull().sum())\n",
    "print(\"=====================\")\n",
    "print(\"thur NA values\")\n",
    "print(thur_web.loc[:, thur_web.isnull().any()].isnull().sum())\n",
    "print(\"=====================\")\n",
    "print(thur_inf.loc[:, thur_inf.isnull().any()].isnull().sum())\n",
    "print(\"=====================\")\n",
    "print(\"Friday NA values\")\n",
    "print(frid_ddos.loc[:, frid_ddos.isnull().any()].isnull().sum())\n",
    "print(\"=====================\")\n",
    "print(frid_port.loc[:, frid_port.isnull().any()].isnull().sum())\n",
    "print(\"=====================\")\n",
    "print(frid_morn.loc[:, frid_morn.isnull().any()].isnull().sum())"
   ]
  },
  {
   "cell_type": "code",
   "execution_count": 5,
   "metadata": {},
   "outputs": [],
   "source": [
    "### NA values are minority of the dataset. Because they cannot be processed by algorithms, they can be easily discarded \n",
    "mon = mon.dropna()\n",
    "tues = tues.dropna()\n",
    "wed = wed.dropna()\n",
    "thur_web = thur_web.dropna()\n",
    "thur_inf = thur_inf.dropna()\n",
    "frid_ddos = frid_ddos.dropna()\n",
    "frid_port = frid_port.dropna()\n",
    "frid_morn = frid_morn.dropna()"
   ]
  },
  {
   "cell_type": "code",
   "execution_count": 5,
   "metadata": {},
   "outputs": [
    {
     "name": "stdout",
     "output_type": "stream",
     "text": [
      "Dimensions of Wednesday-workingHours.pcap_ISCX: set (190911, 85)\n"
     ]
    }
   ],
   "source": [
    "print('Dimensions of Wednesday-workingHours.pcap_ISCX: set',frid_morn.shape)"
   ]
  },
  {
   "cell_type": "code",
   "execution_count": 6,
   "metadata": {},
   "outputs": [],
   "source": [
    "## join all data into one DataFrame\n",
    "all_data = pd.concat([mon, tues, wed, thur_web, thur_inf, frid_ddos, frid_port, frid_morn], ignore_index=True)"
   ]
  },
  {
   "cell_type": "code",
   "execution_count": 48,
   "metadata": {},
   "outputs": [
    {
     "name": "stdout",
     "output_type": "stream",
     "text": [
      "BENIGN                        2271320\n",
      "DoS Hulk                       230124\n",
      "PortScan                       158804\n",
      "DDoS                           128025\n",
      "DoS GoldenEye                   10293\n",
      "FTP-Patator                      7935\n",
      "SSH-Patator                      5897\n",
      "DoS slowloris                    5796\n",
      "DoS Slowhttptest                 5499\n",
      "Bot                              1956\n",
      "Web Attack  Brute Force         1507\n",
      "Web Attack  XSS                  652\n",
      "Infiltration                       36\n",
      "Web Attack  Sql Injection         21\n",
      "Heartbleed                         11\n",
      "Name:  Label, dtype: int64\n"
     ]
    }
   ],
   "source": [
    "print(all_data[' Label'].value_counts())"
   ]
  },
  {
   "cell_type": "code",
   "execution_count": 9,
   "metadata": {},
   "outputs": [],
   "source": [
    "# 2 class (binaire)\n",
    "all_data[' Label'] = all_data[' Label'].apply(lambda x: 0 if x == 'BENIGN' else 1)"
   ]
  },
  {
   "cell_type": "code",
   "execution_count": 10,
   "metadata": {},
   "outputs": [
    {
     "name": "stdout",
     "output_type": "stream",
     "text": [
      "0    2271320\n",
      "1     556556\n",
      "Name:  Label, dtype: int64\n"
     ]
    }
   ],
   "source": [
    "print(all_data[' Label'].value_counts())"
   ]
  },
  {
   "cell_type": "code",
   "execution_count": 46,
   "metadata": {},
   "outputs": [],
   "source": [
    "# 2 class (binaire)\n",
    "# Filter the dataframe to select rows where 'Label' is not equal to 'BENIGN'\n",
    "attacks_data = all_data[all_data[' Label'] != 'BENIGN']"
   ]
  },
  {
   "cell_type": "code",
   "execution_count": 47,
   "metadata": {},
   "outputs": [
    {
     "name": "stdout",
     "output_type": "stream",
     "text": [
      "DoS Hulk                      230124\n",
      "PortScan                      158804\n",
      "DDoS                          128025\n",
      "DoS GoldenEye                  10293\n",
      "FTP-Patator                     7935\n",
      "SSH-Patator                     5897\n",
      "DoS slowloris                   5796\n",
      "DoS Slowhttptest                5499\n",
      "Bot                             1956\n",
      "Web Attack  Brute Force        1507\n",
      "Web Attack  XSS                 652\n",
      "Infiltration                      36\n",
      "Web Attack  Sql Injection        21\n",
      "Heartbleed                        11\n",
      "Name:  Label, dtype: int64\n"
     ]
    }
   ],
   "source": [
    "print(attacks_data[' Label'].value_counts())"
   ]
  },
  {
   "cell_type": "code",
   "execution_count": 50,
   "metadata": {},
   "outputs": [
    {
     "data": {
      "text/plain": [
       "(2827876, 85)"
      ]
     },
     "execution_count": 50,
     "metadata": {},
     "output_type": "execute_result"
    }
   ],
   "source": [
    "all_data.shape"
   ]
  },
  {
   "cell_type": "code",
   "execution_count": 10,
   "metadata": {},
   "outputs": [
    {
     "data": {
      "text/plain": [
       "<Axes: >"
      ]
     },
     "execution_count": 10,
     "metadata": {},
     "output_type": "execute_result"
    },
    {
     "name": "stderr",
     "output_type": "stream",
     "text": [
      "c:\\Users\\dz laptops\\AppData\\Local\\Programs\\Python\\Python310\\lib\\site-packages\\IPython\\core\\events.py:89: UserWarning: Glyph 150 (\\x96) missing from current font.\n",
      "  func(*args, **kwargs)\n",
      "c:\\Users\\dz laptops\\AppData\\Local\\Programs\\Python\\Python310\\lib\\site-packages\\IPython\\core\\pylabtools.py:152: UserWarning: Glyph 150 (\\x96) missing from current font.\n",
      "  fig.canvas.print_figure(bytes_io, **kw)\n"
     ]
    },
    {
     "data": {
      "image/png": "[encoded data removed]",
      "text/plain": [
       "<Figure size 640x480 with 1 Axes>"
      ]
     },
     "metadata": {},
     "output_type": "display_data"
    }
   ],
   "source": [
    "from matplotlib.pyplot import figure\n",
    "\n",
    "figure(figsize=(8, 6), dpi=80)\n",
    "\n",
    "train_data[' Label'].value_counts().plot(kind='bar')"
   ]
  },
  {
   "attachments": {},
   "cell_type": "markdown",
   "metadata": {},
   "source": [
    "## Data pre processing"
   ]
  },
  {
   "cell_type": "code",
   "execution_count": 7,
   "metadata": {},
   "outputs": [
    {
     "name": "stdout",
     "output_type": "stream",
     "text": [
      "alldata set:\n",
      "Feature 'Flow ID' has 1084637 categories\n",
      "Feature ' Source IP' has 17002 categories\n",
      "Feature ' Destination IP' has 19112 categories\n",
      "Feature ' Timestamp' has 27964 categories\n",
      "Feature ' Label' has 15 categories\n"
     ]
    }
   ],
   "source": [
    "# explore categorical features\n",
    "print('alldata set:')\n",
    "for col_name in all_data.columns:\n",
    "    if all_data[col_name].dtypes == 'object' :\n",
    "        unique_cat = len(all_data[col_name].unique())\n",
    "        print(\"Feature '{col_name}' has {unique_cat} categories\".format(col_name=col_name, unique_cat=unique_cat))\n"
   ]
  },
  {
   "attachments": {},
   "cell_type": "markdown",
   "metadata": {},
   "source": [
    "## Insert categorical columns into 2D array"
   ]
  },
  {
   "cell_type": "code",
   "execution_count": 8,
   "metadata": {},
   "outputs": [
    {
     "name": "stderr",
     "output_type": "stream",
     "text": [
      "C:\\Users\\dz laptops\\AppData\\Local\\Temp\\ipykernel_892\\3558772422.py:5: SettingWithCopyWarning: \n",
      "A value is trying to be set on a copy of a slice from a DataFrame\n",
      "\n",
      "See the caveats in the documentation: https://pandas.pydata.org/pandas-docs/stable/user_guide/indexing.html#returning-a-view-versus-a-copy\n",
      "  all_data_categorical_values.rename(columns={'Flow ID': 'Flow ID',\n"
     ]
    }
   ],
   "source": [
    "from sklearn.preprocessing import LabelEncoder,OneHotEncoder\n",
    "categorical_columns=['Flow ID', ' Source IP', ' Destination IP', ' Timestamp', ' Label'] \n",
    "all_data_categorical_values = all_data[categorical_columns]\n",
    "\n",
    "all_data_categorical_values.rename(columns={'Flow ID': 'Flow ID',\n",
    "                                      ' Source IP': 'Source IP',\n",
    "                                      ' Destination IP' : 'Destination IP',\n",
    "                                      ' Timestamp': 'Timestamp',\n",
    "                                      ' Label': 'Label'}, inplace=True, errors='raise')\n",
    "\n",
    "all_data_categorical_values = all_data_categorical_values[['Flow ID', 'Source IP', 'Destination IP', 'Timestamp']]\n",
    "\n"
   ]
  },
  {
   "cell_type": "code",
   "execution_count": 9,
   "metadata": {},
   "outputs": [
    {
     "name": "stdout",
     "output_type": "stream",
     "text": [
      "   Flow ID_enc  Source IP_enc  Destination IP_enc  Timestamp_enc\n",
      "0       942303          16436                5454          12230\n",
      "1       942303          16436                5454          12230\n",
      "2       942303          16436                5454          12230\n",
      "3       942303          16436                5454          12230\n",
      "4       442238          16431                5446          12231\n"
     ]
    }
   ],
   "source": [
    "from sklearn.preprocessing import LabelEncoder,OneHotEncoder\n",
    "all_data_categorical_values = all_data_categorical_values.apply(LabelEncoder().fit_transform)\n",
    "\n",
    "all_data_categorical_values = all_data_categorical_values.add_suffix('_enc')\n",
    "print(all_data_categorical_values.head())"
   ]
  },
  {
   "cell_type": "code",
   "execution_count": 10,
   "metadata": {},
   "outputs": [
    {
     "data": {
      "text/plain": [
       "(2827876, 4)"
      ]
     },
     "execution_count": 10,
     "metadata": {},
     "output_type": "execute_result"
    }
   ],
   "source": [
    "all_data_categorical_values.shape"
   ]
  },
  {
   "cell_type": "code",
   "execution_count": 11,
   "metadata": {},
   "outputs": [
    {
     "data": {
      "text/plain": [
       "(2827876, 85)"
      ]
     },
     "execution_count": 11,
     "metadata": {},
     "output_type": "execute_result"
    }
   ],
   "source": [
    "all_data.shape"
   ]
  },
  {
   "cell_type": "code",
   "execution_count": 12,
   "metadata": {},
   "outputs": [],
   "source": [
    "all_data2 = all_data.join(all_data_categorical_values)\n"
   ]
  },
  {
   "cell_type": "code",
   "execution_count": 15,
   "metadata": {},
   "outputs": [
    {
     "data": {
      "text/plain": [
       "(2827876, 85)"
      ]
     },
     "execution_count": 15,
     "metadata": {},
     "output_type": "execute_result"
    }
   ],
   "source": [
    "all_data2.shape"
   ]
  },
  {
   "cell_type": "code",
   "execution_count": null,
   "metadata": {},
   "outputs": [],
   "source": [
    "all_data.keys()"
   ]
  },
  {
   "cell_type": "code",
   "execution_count": 13,
   "metadata": {},
   "outputs": [],
   "source": [
    "all_data2.drop(' Source IP', axis=1, inplace=True) # enc\n",
    "all_data2.drop(' Destination IP', axis=1, inplace=True)\n",
    "all_data2.drop(' Timestamp', axis=1, inplace=True)\n",
    "all_data2.drop('Flow ID', axis=1, inplace=True)"
   ]
  },
  {
   "cell_type": "code",
   "execution_count": 14,
   "metadata": {},
   "outputs": [
    {
     "data": {
      "text/plain": [
       "(2827876, 85)"
      ]
     },
     "execution_count": 14,
     "metadata": {},
     "output_type": "execute_result"
    }
   ],
   "source": [
    "all_data2.shape"
   ]
  },
  {
   "cell_type": "code",
   "execution_count": 26,
   "metadata": {},
   "outputs": [
    {
     "data": {
      "text/html": [
       "<div>\n",
       "<style scoped>\n",
       "    .dataframe tbody tr th:only-of-type {\n",
       "        vertical-align: middle;\n",
       "    }\n",
       "\n",
       "    .dataframe tbody tr th {\n",
       "        vertical-align: top;\n",
       "    }\n",
       "\n",
       "    .dataframe thead th {\n",
       "        text-align: right;\n",
       "    }\n",
       "</style>\n",
       "<table border=\"1\" class=\"dataframe\">\n",
       "  <thead>\n",
       "    <tr style=\"text-align: right;\">\n",
       "      <th></th>\n",
       "      <th>Source Port</th>\n",
       "      <th>Destination Port</th>\n",
       "      <th>Protocol</th>\n",
       "      <th>Flow Duration</th>\n",
       "      <th>Total Fwd Packets</th>\n",
       "      <th>Total Backward Packets</th>\n",
       "      <th>Total Length of Fwd Packets</th>\n",
       "      <th>Total Length of Bwd Packets</th>\n",
       "      <th>Fwd Packet Length Max</th>\n",
       "      <th>Fwd Packet Length Min</th>\n",
       "      <th>...</th>\n",
       "      <th>Active Min</th>\n",
       "      <th>Idle Mean</th>\n",
       "      <th>Idle Std</th>\n",
       "      <th>Idle Max</th>\n",
       "      <th>Idle Min</th>\n",
       "      <th>Label</th>\n",
       "      <th>Flow ID_enc</th>\n",
       "      <th>Source IP_enc</th>\n",
       "      <th>Destination IP_enc</th>\n",
       "      <th>Timestamp_enc</th>\n",
       "    </tr>\n",
       "  </thead>\n",
       "  <tbody>\n",
       "    <tr>\n",
       "      <th>0</th>\n",
       "      <td>80.0</td>\n",
       "      <td>49188.0</td>\n",
       "      <td>6.0</td>\n",
       "      <td>4.0</td>\n",
       "      <td>2.0</td>\n",
       "      <td>0.0</td>\n",
       "      <td>12.0</td>\n",
       "      <td>0.0</td>\n",
       "      <td>6.0</td>\n",
       "      <td>6.0</td>\n",
       "      <td>...</td>\n",
       "      <td>0.0</td>\n",
       "      <td>0.0</td>\n",
       "      <td>0.0</td>\n",
       "      <td>0.0</td>\n",
       "      <td>0.0</td>\n",
       "      <td>0</td>\n",
       "      <td>942303</td>\n",
       "      <td>16436</td>\n",
       "      <td>5454</td>\n",
       "      <td>12230</td>\n",
       "    </tr>\n",
       "    <tr>\n",
       "      <th>1</th>\n",
       "      <td>80.0</td>\n",
       "      <td>49188.0</td>\n",
       "      <td>6.0</td>\n",
       "      <td>1.0</td>\n",
       "      <td>2.0</td>\n",
       "      <td>0.0</td>\n",
       "      <td>12.0</td>\n",
       "      <td>0.0</td>\n",
       "      <td>6.0</td>\n",
       "      <td>6.0</td>\n",
       "      <td>...</td>\n",
       "      <td>0.0</td>\n",
       "      <td>0.0</td>\n",
       "      <td>0.0</td>\n",
       "      <td>0.0</td>\n",
       "      <td>0.0</td>\n",
       "      <td>0</td>\n",
       "      <td>942303</td>\n",
       "      <td>16436</td>\n",
       "      <td>5454</td>\n",
       "      <td>12230</td>\n",
       "    </tr>\n",
       "    <tr>\n",
       "      <th>2</th>\n",
       "      <td>80.0</td>\n",
       "      <td>49188.0</td>\n",
       "      <td>6.0</td>\n",
       "      <td>1.0</td>\n",
       "      <td>2.0</td>\n",
       "      <td>0.0</td>\n",
       "      <td>12.0</td>\n",
       "      <td>0.0</td>\n",
       "      <td>6.0</td>\n",
       "      <td>6.0</td>\n",
       "      <td>...</td>\n",
       "      <td>0.0</td>\n",
       "      <td>0.0</td>\n",
       "      <td>0.0</td>\n",
       "      <td>0.0</td>\n",
       "      <td>0.0</td>\n",
       "      <td>0</td>\n",
       "      <td>942303</td>\n",
       "      <td>16436</td>\n",
       "      <td>5454</td>\n",
       "      <td>12230</td>\n",
       "    </tr>\n",
       "    <tr>\n",
       "      <th>3</th>\n",
       "      <td>80.0</td>\n",
       "      <td>49188.0</td>\n",
       "      <td>6.0</td>\n",
       "      <td>1.0</td>\n",
       "      <td>2.0</td>\n",
       "      <td>0.0</td>\n",
       "      <td>12.0</td>\n",
       "      <td>0.0</td>\n",
       "      <td>6.0</td>\n",
       "      <td>6.0</td>\n",
       "      <td>...</td>\n",
       "      <td>0.0</td>\n",
       "      <td>0.0</td>\n",
       "      <td>0.0</td>\n",
       "      <td>0.0</td>\n",
       "      <td>0.0</td>\n",
       "      <td>0</td>\n",
       "      <td>942303</td>\n",
       "      <td>16436</td>\n",
       "      <td>5454</td>\n",
       "      <td>12230</td>\n",
       "    </tr>\n",
       "    <tr>\n",
       "      <th>4</th>\n",
       "      <td>80.0</td>\n",
       "      <td>49486.0</td>\n",
       "      <td>6.0</td>\n",
       "      <td>3.0</td>\n",
       "      <td>2.0</td>\n",
       "      <td>0.0</td>\n",
       "      <td>12.0</td>\n",
       "      <td>0.0</td>\n",
       "      <td>6.0</td>\n",
       "      <td>6.0</td>\n",
       "      <td>...</td>\n",
       "      <td>0.0</td>\n",
       "      <td>0.0</td>\n",
       "      <td>0.0</td>\n",
       "      <td>0.0</td>\n",
       "      <td>0.0</td>\n",
       "      <td>0</td>\n",
       "      <td>442238</td>\n",
       "      <td>16431</td>\n",
       "      <td>5446</td>\n",
       "      <td>12231</td>\n",
       "    </tr>\n",
       "  </tbody>\n",
       "</table>\n",
       "<p>5 rows × 85 columns</p>\n",
       "</div>"
      ],
      "text/plain": [
       "    Source Port   Destination Port   Protocol   Flow Duration  \\\n",
       "0          80.0            49188.0        6.0             4.0   \n",
       "1          80.0            49188.0        6.0             1.0   \n",
       "2          80.0            49188.0        6.0             1.0   \n",
       "3          80.0            49188.0        6.0             1.0   \n",
       "4          80.0            49486.0        6.0             3.0   \n",
       "\n",
       "    Total Fwd Packets   Total Backward Packets  Total Length of Fwd Packets  \\\n",
       "0                 2.0                      0.0                         12.0   \n",
       "1                 2.0                      0.0                         12.0   \n",
       "2                 2.0                      0.0                         12.0   \n",
       "3                 2.0                      0.0                         12.0   \n",
       "4                 2.0                      0.0                         12.0   \n",
       "\n",
       "    Total Length of Bwd Packets   Fwd Packet Length Max  \\\n",
       "0                           0.0                     6.0   \n",
       "1                           0.0                     6.0   \n",
       "2                           0.0                     6.0   \n",
       "3                           0.0                     6.0   \n",
       "4                           0.0                     6.0   \n",
       "\n",
       "    Fwd Packet Length Min  ...   Active Min  Idle Mean   Idle Std   Idle Max  \\\n",
       "0                     6.0  ...          0.0        0.0        0.0        0.0   \n",
       "1                     6.0  ...          0.0        0.0        0.0        0.0   \n",
       "2                     6.0  ...          0.0        0.0        0.0        0.0   \n",
       "3                     6.0  ...          0.0        0.0        0.0        0.0   \n",
       "4                     6.0  ...          0.0        0.0        0.0        0.0   \n",
       "\n",
       "    Idle Min   Label  Flow ID_enc  Source IP_enc  Destination IP_enc  \\\n",
       "0        0.0       0       942303          16436                5454   \n",
       "1        0.0       0       942303          16436                5454   \n",
       "2        0.0       0       942303          16436                5454   \n",
       "3        0.0       0       942303          16436                5454   \n",
       "4        0.0       0       442238          16431                5446   \n",
       "\n",
       "   Timestamp_enc  \n",
       "0          12230  \n",
       "1          12230  \n",
       "2          12230  \n",
       "3          12230  \n",
       "4          12231  \n",
       "\n",
       "[5 rows x 85 columns]"
      ]
     },
     "execution_count": 26,
     "metadata": {},
     "output_type": "execute_result"
    }
   ],
   "source": [
    "all_data2.head()"
   ]
  },
  {
   "cell_type": "code",
   "execution_count": 16,
   "metadata": {},
   "outputs": [
    {
     "data": {
      "text/html": [
       "<div>\n",
       "<style scoped>\n",
       "    .dataframe tbody tr th:only-of-type {\n",
       "        vertical-align: middle;\n",
       "    }\n",
       "\n",
       "    .dataframe tbody tr th {\n",
       "        vertical-align: top;\n",
       "    }\n",
       "\n",
       "    .dataframe thead th {\n",
       "        text-align: right;\n",
       "    }\n",
       "</style>\n",
       "<table border=\"1\" class=\"dataframe\">\n",
       "  <thead>\n",
       "    <tr style=\"text-align: right;\">\n",
       "      <th></th>\n",
       "      <th>Bwd PSH Flags</th>\n",
       "      <th>Bwd URG Flags</th>\n",
       "      <th>Fwd Avg Bytes/Bulk</th>\n",
       "      <th>Fwd Avg Packets/Bulk</th>\n",
       "      <th>Fwd Avg Bulk Rate</th>\n",
       "      <th>Bwd Avg Bytes/Bulk</th>\n",
       "      <th>Bwd Avg Packets/Bulk</th>\n",
       "      <th>Bwd Avg Bulk Rate</th>\n",
       "    </tr>\n",
       "  </thead>\n",
       "  <tbody>\n",
       "    <tr>\n",
       "      <th>count</th>\n",
       "      <td>2827876.0</td>\n",
       "      <td>2827876.0</td>\n",
       "      <td>2827876.0</td>\n",
       "      <td>2827876.0</td>\n",
       "      <td>2827876.0</td>\n",
       "      <td>2827876.0</td>\n",
       "      <td>2827876.0</td>\n",
       "      <td>2827876.0</td>\n",
       "    </tr>\n",
       "    <tr>\n",
       "      <th>mean</th>\n",
       "      <td>0.0</td>\n",
       "      <td>0.0</td>\n",
       "      <td>0.0</td>\n",
       "      <td>0.0</td>\n",
       "      <td>0.0</td>\n",
       "      <td>0.0</td>\n",
       "      <td>0.0</td>\n",
       "      <td>0.0</td>\n",
       "    </tr>\n",
       "    <tr>\n",
       "      <th>std</th>\n",
       "      <td>0.0</td>\n",
       "      <td>0.0</td>\n",
       "      <td>0.0</td>\n",
       "      <td>0.0</td>\n",
       "      <td>0.0</td>\n",
       "      <td>0.0</td>\n",
       "      <td>0.0</td>\n",
       "      <td>0.0</td>\n",
       "    </tr>\n",
       "    <tr>\n",
       "      <th>min</th>\n",
       "      <td>0.0</td>\n",
       "      <td>0.0</td>\n",
       "      <td>0.0</td>\n",
       "      <td>0.0</td>\n",
       "      <td>0.0</td>\n",
       "      <td>0.0</td>\n",
       "      <td>0.0</td>\n",
       "      <td>0.0</td>\n",
       "    </tr>\n",
       "    <tr>\n",
       "      <th>25%</th>\n",
       "      <td>0.0</td>\n",
       "      <td>0.0</td>\n",
       "      <td>0.0</td>\n",
       "      <td>0.0</td>\n",
       "      <td>0.0</td>\n",
       "      <td>0.0</td>\n",
       "      <td>0.0</td>\n",
       "      <td>0.0</td>\n",
       "    </tr>\n",
       "    <tr>\n",
       "      <th>50%</th>\n",
       "      <td>0.0</td>\n",
       "      <td>0.0</td>\n",
       "      <td>0.0</td>\n",
       "      <td>0.0</td>\n",
       "      <td>0.0</td>\n",
       "      <td>0.0</td>\n",
       "      <td>0.0</td>\n",
       "      <td>0.0</td>\n",
       "    </tr>\n",
       "    <tr>\n",
       "      <th>75%</th>\n",
       "      <td>0.0</td>\n",
       "      <td>0.0</td>\n",
       "      <td>0.0</td>\n",
       "      <td>0.0</td>\n",
       "      <td>0.0</td>\n",
       "      <td>0.0</td>\n",
       "      <td>0.0</td>\n",
       "      <td>0.0</td>\n",
       "    </tr>\n",
       "    <tr>\n",
       "      <th>max</th>\n",
       "      <td>0.0</td>\n",
       "      <td>0.0</td>\n",
       "      <td>0.0</td>\n",
       "      <td>0.0</td>\n",
       "      <td>0.0</td>\n",
       "      <td>0.0</td>\n",
       "      <td>0.0</td>\n",
       "      <td>0.0</td>\n",
       "    </tr>\n",
       "  </tbody>\n",
       "</table>\n",
       "</div>"
      ],
      "text/plain": [
       "        Bwd PSH Flags   Bwd URG Flags  Fwd Avg Bytes/Bulk  \\\n",
       "count       2827876.0       2827876.0           2827876.0   \n",
       "mean              0.0             0.0                 0.0   \n",
       "std               0.0             0.0                 0.0   \n",
       "min               0.0             0.0                 0.0   \n",
       "25%               0.0             0.0                 0.0   \n",
       "50%               0.0             0.0                 0.0   \n",
       "75%               0.0             0.0                 0.0   \n",
       "max               0.0             0.0                 0.0   \n",
       "\n",
       "        Fwd Avg Packets/Bulk   Fwd Avg Bulk Rate   Bwd Avg Bytes/Bulk  \\\n",
       "count              2827876.0           2827876.0            2827876.0   \n",
       "mean                     0.0                 0.0                  0.0   \n",
       "std                      0.0                 0.0                  0.0   \n",
       "min                      0.0                 0.0                  0.0   \n",
       "25%                      0.0                 0.0                  0.0   \n",
       "50%                      0.0                 0.0                  0.0   \n",
       "75%                      0.0                 0.0                  0.0   \n",
       "max                      0.0                 0.0                  0.0   \n",
       "\n",
       "        Bwd Avg Packets/Bulk  Bwd Avg Bulk Rate  \n",
       "count              2827876.0          2827876.0  \n",
       "mean                     0.0                0.0  \n",
       "std                      0.0                0.0  \n",
       "min                      0.0                0.0  \n",
       "25%                      0.0                0.0  \n",
       "50%                      0.0                0.0  \n",
       "75%                      0.0                0.0  \n",
       "max                      0.0                0.0  "
      ]
     },
     "execution_count": 16,
     "metadata": {},
     "output_type": "execute_result"
    }
   ],
   "source": [
    "## feature selection phase - find cols w/ all zero values ugvvuhhvh\n",
    "\n",
    "#all_datav2.describe().iloc[1:].apply(np.sum, index=[])\n",
    "describe_info = all_data2.describe()\n",
    "all_zeroes_cols = describe_info.loc[:,(describe_info.iloc[1:] == 0).all()]\n",
    "all_zeroes_cols"
   ]
  },
  {
   "cell_type": "code",
   "execution_count": 17,
   "metadata": {},
   "outputs": [
    {
     "data": {
      "text/plain": [
       "(2827876, 77)"
      ]
     },
     "execution_count": 17,
     "metadata": {},
     "output_type": "execute_result"
    }
   ],
   "source": [
    "### feature selection phase - lets's cut out features that are reduntant - all zero values \n",
    "## removing [8] features from previous cell - they are reduntant \n",
    "\n",
    "all_data2.drop(columns=all_zeroes_cols, inplace=True)\n",
    "\n",
    "all_data2.shape # check if resulting DataFrame valid"
   ]
  },
  {
   "cell_type": "code",
   "execution_count": 62,
   "metadata": {},
   "outputs": [
    {
     "name": "stdout",
     "output_type": "stream",
     "text": [
      "Before...\n",
      "['BENIGN' 'FTP-Patator' 'SSH-Patator' 'DoS slowloris' 'DoS Slowhttptest'\n",
      " 'DoS Hulk' 'DoS GoldenEye' 'Heartbleed' 'Web Attack \\x96 Brute Force'\n",
      " 'Web Attack \\x96 XSS' 'Web Attack \\x96 Sql Injection' 'Infiltration'\n",
      " 'DDoS' 'PortScan' 'Bot']\n",
      "After..\n",
      "['BENIGN' 'FTP-Patator' 'SSH-Patator' 'DoS slowloris' 'DoS Slowhttptest'\n",
      " 'DoS Hulk' 'DoS GoldenEye' 'Heartbleed' 'Web Attack \\x96 Brute Force'\n",
      " 'Web Attack \\x96 XSS' 'Web Attack \\x96 Sql Injection' 'Infiltration'\n",
      " 'DDoS' 'PortScan' 'Bot']\n"
     ]
    }
   ],
   "source": [
    "### just rename Labels that contain non-printable characters \n",
    "print(\"Before...\")\n",
    "print(all_data2.loc[:,' Label'].unique())\n",
    "\n",
    "all_data2.loc[:,' Label'].replace({\"Web Attack � XSS\" : \"XSS\", \"Web Attack � Sql Injection\": \"Sql Injection\", \"Web Attack � Brute Force\": \"Brute Force\"}, inplace=True)\n",
    "print(\"After..\")\n",
    "print(all_data2.loc[:,' Label'].unique())\n",
    "\n",
    "## remove trailing && leading spaces from all the labels\n",
    "rename_cols = lambda col_lbl: col_lbl.strip()\n",
    "all_data2.rename(rename_cols, axis=1, inplace=True, errors=\"raise\")"
   ]
  },
  {
   "cell_type": "code",
   "execution_count": 17,
   "metadata": {},
   "outputs": [
    {
     "data": {
      "text/plain": [
       "(2827876, 77)"
      ]
     },
     "execution_count": 17,
     "metadata": {},
     "output_type": "execute_result"
    }
   ],
   "source": [
    "all_data2.shape"
   ]
  },
  {
   "cell_type": "code",
   "execution_count": 19,
   "metadata": {},
   "outputs": [
    {
     "name": "stdout",
     "output_type": "stream",
     "text": [
      "BENIGN                        2271320\n",
      "DoS Hulk                       230124\n",
      "PortScan                       158804\n",
      "DDoS                           128025\n",
      "DoS GoldenEye                   10293\n",
      "FTP-Patator                      7935\n",
      "SSH-Patator                      5897\n",
      "DoS slowloris                    5796\n",
      "DoS Slowhttptest                 5499\n",
      "Bot                              1956\n",
      "Web Attack  Brute Force         1507\n",
      "Web Attack  XSS                  652\n",
      "Infiltration                       36\n",
      "Web Attack  Sql Injection         21\n",
      "Heartbleed                         11\n",
      "Name:  Label, dtype: int64\n"
     ]
    }
   ],
   "source": [
    "print(all_data2[' Label'].value_counts())"
   ]
  },
  {
   "cell_type": "code",
   "execution_count": null,
   "metadata": {},
   "outputs": [],
   "source": [
    "# MinMaxScaler"
   ]
  },
  {
   "cell_type": "code",
   "execution_count": 20,
   "metadata": {},
   "outputs": [],
   "source": [
    "from sklearn.preprocessing import MinMaxScaler\n",
    "import numpy as np\n",
    "\n",
    "# select numeric columns\n",
    "#numeric_cols = attacks_data.select_dtypes(include='number').columns\n",
    "numeric_cols = all_data2.select_dtypes(include=np.number).columns\n",
    "numeric_cols = [col for col in numeric_cols if col != ' Label']\n",
    "\n",
    "# create a scaler object\n",
    "scaler = MinMaxScaler()\n",
    "\n",
    "# fit and transform the numeric columns\n",
    "all_data2[numeric_cols] = scaler.fit_transform(all_data2[numeric_cols])\n"
   ]
  },
  {
   "cell_type": "code",
   "execution_count": 25,
   "metadata": {},
   "outputs": [
    {
     "name": "stdout",
     "output_type": "stream",
     "text": [
      "BENIGN                        2271320\n",
      "DoS Hulk                       230124\n",
      "PortScan                       158804\n",
      "DDoS                           128025\n",
      "DoS GoldenEye                   10293\n",
      "FTP-Patator                      7935\n",
      "SSH-Patator                      5897\n",
      "DoS slowloris                    5796\n",
      "DoS Slowhttptest                 5499\n",
      "Bot                              1956\n",
      "Web Attack  Brute Force         1507\n",
      "Web Attack  XSS                  652\n",
      "Infiltration                       36\n",
      "Web Attack  Sql Injection         21\n",
      "Heartbleed                         11\n",
      "Name:  Label, dtype: int64\n"
     ]
    }
   ],
   "source": [
    "print(all_data2[' Label'].value_counts())"
   ]
  },
  {
   "cell_type": "code",
   "execution_count": 7,
   "metadata": {},
   "outputs": [
    {
     "data": {
      "text/html": [
       "<div>\n",
       "<style scoped>\n",
       "    .dataframe tbody tr th:only-of-type {\n",
       "        vertical-align: middle;\n",
       "    }\n",
       "\n",
       "    .dataframe tbody tr th {\n",
       "        vertical-align: top;\n",
       "    }\n",
       "\n",
       "    .dataframe thead th {\n",
       "        text-align: right;\n",
       "    }\n",
       "</style>\n",
       "<table border=\"1\" class=\"dataframe\">\n",
       "  <thead>\n",
       "    <tr style=\"text-align: right;\">\n",
       "      <th></th>\n",
       "      <th>Source Port</th>\n",
       "      <th>Destination Port</th>\n",
       "      <th>Protocol</th>\n",
       "      <th>Flow Duration</th>\n",
       "      <th>Total Fwd Packets</th>\n",
       "      <th>Total Backward Packets</th>\n",
       "      <th>Total Length of Fwd Packets</th>\n",
       "      <th>Total Length of Bwd Packets</th>\n",
       "      <th>Fwd Packet Length Max</th>\n",
       "      <th>Fwd Packet Length Min</th>\n",
       "      <th>...</th>\n",
       "      <th>Active Min</th>\n",
       "      <th>Idle Mean</th>\n",
       "      <th>Idle Std</th>\n",
       "      <th>Idle Max</th>\n",
       "      <th>Idle Min</th>\n",
       "      <th>Label</th>\n",
       "      <th>Flow ID_enc</th>\n",
       "      <th>Source IP_enc</th>\n",
       "      <th>Destination IP_enc</th>\n",
       "      <th>Timestamp_enc</th>\n",
       "    </tr>\n",
       "  </thead>\n",
       "  <tbody>\n",
       "    <tr>\n",
       "      <th>0</th>\n",
       "      <td>0.006760</td>\n",
       "      <td>0.143206</td>\n",
       "      <td>0.352941</td>\n",
       "      <td>7.333333e-07</td>\n",
       "      <td>0.000000</td>\n",
       "      <td>0.000003</td>\n",
       "      <td>4.651163e-07</td>\n",
       "      <td>9.153974e-09</td>\n",
       "      <td>0.000242</td>\n",
       "      <td>0.002581</td>\n",
       "      <td>...</td>\n",
       "      <td>0.0</td>\n",
       "      <td>0.0</td>\n",
       "      <td>0.0</td>\n",
       "      <td>0.0</td>\n",
       "      <td>0.0</td>\n",
       "      <td>BENIGN</td>\n",
       "      <td>0.982841</td>\n",
       "      <td>0.526631</td>\n",
       "      <td>0.287955</td>\n",
       "      <td>0.978350</td>\n",
       "    </tr>\n",
       "    <tr>\n",
       "      <th>1</th>\n",
       "      <td>0.815534</td>\n",
       "      <td>0.015717</td>\n",
       "      <td>0.352941</td>\n",
       "      <td>1.833333e-07</td>\n",
       "      <td>0.000000</td>\n",
       "      <td>0.000003</td>\n",
       "      <td>1.550388e-07</td>\n",
       "      <td>9.153974e-09</td>\n",
       "      <td>0.000081</td>\n",
       "      <td>0.000860</td>\n",
       "      <td>...</td>\n",
       "      <td>0.0</td>\n",
       "      <td>0.0</td>\n",
       "      <td>0.0</td>\n",
       "      <td>0.0</td>\n",
       "      <td>0.0</td>\n",
       "      <td>PortScan</td>\n",
       "      <td>0.183476</td>\n",
       "      <td>0.208635</td>\n",
       "      <td>0.287793</td>\n",
       "      <td>0.992931</td>\n",
       "    </tr>\n",
       "    <tr>\n",
       "      <th>2</th>\n",
       "      <td>0.943618</td>\n",
       "      <td>0.000809</td>\n",
       "      <td>1.000000</td>\n",
       "      <td>2.045083e-04</td>\n",
       "      <td>0.000005</td>\n",
       "      <td>0.000007</td>\n",
       "      <td>5.581395e-06</td>\n",
       "      <td>4.302368e-07</td>\n",
       "      <td>0.001450</td>\n",
       "      <td>0.015484</td>\n",
       "      <td>...</td>\n",
       "      <td>0.0</td>\n",
       "      <td>0.0</td>\n",
       "      <td>0.0</td>\n",
       "      <td>0.0</td>\n",
       "      <td>0.0</td>\n",
       "      <td>BENIGN</td>\n",
       "      <td>0.754749</td>\n",
       "      <td>0.278349</td>\n",
       "      <td>0.287685</td>\n",
       "      <td>0.952555</td>\n",
       "    </tr>\n",
       "    <tr>\n",
       "      <th>3</th>\n",
       "      <td>0.246372</td>\n",
       "      <td>0.000809</td>\n",
       "      <td>1.000000</td>\n",
       "      <td>4.072416e-04</td>\n",
       "      <td>0.000005</td>\n",
       "      <td>0.000007</td>\n",
       "      <td>5.116279e-06</td>\n",
       "      <td>2.288494e-07</td>\n",
       "      <td>0.001330</td>\n",
       "      <td>0.014194</td>\n",
       "      <td>...</td>\n",
       "      <td>0.0</td>\n",
       "      <td>0.0</td>\n",
       "      <td>0.0</td>\n",
       "      <td>0.0</td>\n",
       "      <td>0.0</td>\n",
       "      <td>BENIGN</td>\n",
       "      <td>0.702042</td>\n",
       "      <td>0.278159</td>\n",
       "      <td>0.287685</td>\n",
       "      <td>0.969209</td>\n",
       "    </tr>\n",
       "    <tr>\n",
       "      <th>4</th>\n",
       "      <td>0.006760</td>\n",
       "      <td>0.808408</td>\n",
       "      <td>0.352941</td>\n",
       "      <td>1.416667e-07</td>\n",
       "      <td>0.000005</td>\n",
       "      <td>0.000000</td>\n",
       "      <td>2.403101e-06</td>\n",
       "      <td>0.000000e+00</td>\n",
       "      <td>0.001249</td>\n",
       "      <td>0.000000</td>\n",
       "      <td>...</td>\n",
       "      <td>0.0</td>\n",
       "      <td>0.0</td>\n",
       "      <td>0.0</td>\n",
       "      <td>0.0</td>\n",
       "      <td>0.0</td>\n",
       "      <td>BENIGN</td>\n",
       "      <td>0.481739</td>\n",
       "      <td>0.417145</td>\n",
       "      <td>0.287468</td>\n",
       "      <td>0.975204</td>\n",
       "    </tr>\n",
       "  </tbody>\n",
       "</table>\n",
       "<p>5 rows × 77 columns</p>\n",
       "</div>"
      ],
      "text/plain": [
       "    Source Port   Destination Port   Protocol   Flow Duration  \\\n",
       "0      0.006760           0.143206   0.352941    7.333333e-07   \n",
       "1      0.815534           0.015717   0.352941    1.833333e-07   \n",
       "2      0.943618           0.000809   1.000000    2.045083e-04   \n",
       "3      0.246372           0.000809   1.000000    4.072416e-04   \n",
       "4      0.006760           0.808408   0.352941    1.416667e-07   \n",
       "\n",
       "    Total Fwd Packets   Total Backward Packets  Total Length of Fwd Packets  \\\n",
       "0            0.000000                 0.000003                 4.651163e-07   \n",
       "1            0.000000                 0.000003                 1.550388e-07   \n",
       "2            0.000005                 0.000007                 5.581395e-06   \n",
       "3            0.000005                 0.000007                 5.116279e-06   \n",
       "4            0.000005                 0.000000                 2.403101e-06   \n",
       "\n",
       "    Total Length of Bwd Packets   Fwd Packet Length Max  \\\n",
       "0                  9.153974e-09                0.000242   \n",
       "1                  9.153974e-09                0.000081   \n",
       "2                  4.302368e-07                0.001450   \n",
       "3                  2.288494e-07                0.001330   \n",
       "4                  0.000000e+00                0.001249   \n",
       "\n",
       "    Fwd Packet Length Min  ...   Active Min  Idle Mean   Idle Std   Idle Max  \\\n",
       "0                0.002581  ...          0.0        0.0        0.0        0.0   \n",
       "1                0.000860  ...          0.0        0.0        0.0        0.0   \n",
       "2                0.015484  ...          0.0        0.0        0.0        0.0   \n",
       "3                0.014194  ...          0.0        0.0        0.0        0.0   \n",
       "4                0.000000  ...          0.0        0.0        0.0        0.0   \n",
       "\n",
       "    Idle Min     Label  Flow ID_enc  Source IP_enc  Destination IP_enc  \\\n",
       "0        0.0    BENIGN     0.982841       0.526631            0.287955   \n",
       "1        0.0  PortScan     0.183476       0.208635            0.287793   \n",
       "2        0.0    BENIGN     0.754749       0.278349            0.287685   \n",
       "3        0.0    BENIGN     0.702042       0.278159            0.287685   \n",
       "4        0.0    BENIGN     0.481739       0.417145            0.287468   \n",
       "\n",
       "   Timestamp_enc  \n",
       "0       0.978350  \n",
       "1       0.992931  \n",
       "2       0.952555  \n",
       "3       0.969209  \n",
       "4       0.975204  \n",
       "\n",
       "[5 rows x 77 columns]"
      ]
     },
     "execution_count": 7,
     "metadata": {},
     "output_type": "execute_result"
    }
   ],
   "source": [
    "all_data2.head(5)"
   ]
  },
  {
   "cell_type": "code",
   "execution_count": 24,
   "metadata": {},
   "outputs": [
    {
     "data": {
      "text/plain": [
       "(2827876, 77)"
      ]
     },
     "execution_count": 24,
     "metadata": {},
     "output_type": "execute_result"
    }
   ],
   "source": [
    "all_data2.shape"
   ]
  },
  {
   "cell_type": "code",
   "execution_count": 15,
   "metadata": {},
   "outputs": [
    {
     "data": {
      "text/plain": [
       "Index([' Source Port', ' Destination Port', ' Protocol', ' Flow Duration',\n",
       "       ' Total Fwd Packets', ' Total Backward Packets',\n",
       "       'Total Length of Fwd Packets', ' Total Length of Bwd Packets',\n",
       "       ' Fwd Packet Length Max', ' Fwd Packet Length Min',\n",
       "       ' Fwd Packet Length Mean', ' Fwd Packet Length Std',\n",
       "       'Bwd Packet Length Max', ' Bwd Packet Length Min',\n",
       "       ' Bwd Packet Length Mean', ' Bwd Packet Length Std', 'Flow Bytes/s',\n",
       "       ' Flow Packets/s', ' Flow IAT Mean', ' Flow IAT Std', ' Flow IAT Max',\n",
       "       ' Flow IAT Min', 'Fwd IAT Total', ' Fwd IAT Mean', ' Fwd IAT Std',\n",
       "       ' Fwd IAT Max', ' Fwd IAT Min', 'Bwd IAT Total', ' Bwd IAT Mean',\n",
       "       ' Bwd IAT Std', ' Bwd IAT Max', ' Bwd IAT Min', 'Fwd PSH Flags',\n",
       "       ' Fwd URG Flags', ' Fwd Header Length', ' Bwd Header Length',\n",
       "       'Fwd Packets/s', ' Bwd Packets/s', ' Min Packet Length',\n",
       "       ' Max Packet Length', ' Packet Length Mean', ' Packet Length Std',\n",
       "       ' Packet Length Variance', 'FIN Flag Count', ' SYN Flag Count',\n",
       "       ' RST Flag Count', ' PSH Flag Count', ' ACK Flag Count',\n",
       "       ' URG Flag Count', ' CWE Flag Count', ' ECE Flag Count',\n",
       "       ' Down/Up Ratio', ' Average Packet Size', ' Avg Fwd Segment Size',\n",
       "       ' Avg Bwd Segment Size', ' Fwd Header Length.1', 'Subflow Fwd Packets',\n",
       "       ' Subflow Fwd Bytes', ' Subflow Bwd Packets', ' Subflow Bwd Bytes',\n",
       "       'Init_Win_bytes_forward', ' Init_Win_bytes_backward',\n",
       "       ' act_data_pkt_fwd', ' min_seg_size_forward', 'Active Mean',\n",
       "       ' Active Std', ' Active Max', ' Active Min', 'Idle Mean', ' Idle Std',\n",
       "       ' Idle Max', ' Idle Min', ' Label', 'Flow ID_enc', 'Source IP_enc',\n",
       "       'Destination IP_enc', 'Timestamp_enc'],\n",
       "      dtype='object')"
      ]
     },
     "execution_count": 15,
     "metadata": {},
     "output_type": "execute_result"
    }
   ],
   "source": [
    "all_data2.keys()"
   ]
  },
  {
   "cell_type": "code",
   "execution_count": 20,
   "metadata": {},
   "outputs": [
    {
     "name": "stdout",
     "output_type": "stream",
     "text": [
      " Source Port: 0.11570067035610095\n",
      " Destination Port: 0.07775623154597168\n",
      " Protocol: 0.09584915542129958\n",
      " Flow Duration: 0.07871534621770045\n",
      " Bwd Packet Length Mean: 0.010896242847248308\n",
      " Bwd Packet Length Std: 0.010508708535910672\n",
      " Flow IAT Max: 0.04158264498573849\n",
      "Fwd IAT Total: 0.07835177158773345\n",
      " Fwd IAT Std: 0.012992352241933156\n",
      " Fwd IAT Max: 0.041819913931954236\n",
      "Bwd IAT Total: 0.0573979950434755\n",
      " Bwd IAT Max: 0.020470458581123077\n",
      "Fwd PSH Flags: 0.04424339843785239\n",
      " Packet Length Std: 0.017844423940310432\n",
      "FIN Flag Count: 0.03403782166749142\n",
      " SYN Flag Count: 0.04424339843785239\n",
      " PSH Flag Count: 0.20931060574368596\n",
      " ACK Flag Count: 0.21589134351953032\n",
      " URG Flag Count: 0.08583661766262357\n",
      " Avg Bwd Segment Size: 0.01089624284724901\n",
      "Init_Win_bytes_forward: 0.047879755593706386\n",
      " Init_Win_bytes_backward: 0.016642553536164378\n",
      "Idle Mean: 0.03881088253063906\n",
      " Idle Max: 0.04126879515131721\n",
      " Idle Min: 0.03794022619165291\n",
      "Flow ID_enc: 0.07384747983450718\n",
      "Source IP_enc: 0.015096682479209237\n",
      "Destination IP_enc: 0.028837680468584634\n",
      "Timestamp_enc: 0.04804556670971826\n"
     ]
    },
    {
     "name": "stderr",
     "output_type": "stream",
     "text": [
      "C:\\Users\\dz laptops\\AppData\\Local\\Temp\\ipykernel_6828\\3318733232.py:9: FutureWarning: iteritems is deprecated and will be removed in a future version. Use .items instead.\n",
      "  for col_name, variance in filtered_variances.iteritems():\n"
     ]
    }
   ],
   "source": [
    "# iterate over the columns and print out the variance for columns that have a variance greater than 0.01\n",
    "# Get the variance of each column starting from row 1\n",
    "variances = all_data2.iloc[1:].apply(pd.to_numeric, errors='coerce').var()\n",
    "\n",
    "# Filter the variances that are greater than 0.01\n",
    "filtered_variances = variances[variances > 0.01]\n",
    "\n",
    "# Print the filtered variances along with their corresponding column names\n",
    "for col_name, variance in filtered_variances.iteritems():\n",
    "    print(f\"{col_name}: {variance}\")"
   ]
  },
  {
   "cell_type": "code",
   "execution_count": 21,
   "metadata": {},
   "outputs": [
    {
     "name": "stdout",
     "output_type": "stream",
     "text": [
      "Columns with variance <= 0.01:\n",
      "[' Total Fwd Packets', ' Total Backward Packets', 'Total Length of Fwd Packets', ' Total Length of Bwd Packets', ' Fwd Packet Length Max', ' Fwd Packet Length Min', ' Fwd Packet Length Mean', ' Fwd Packet Length Std', 'Bwd Packet Length Max', ' Bwd Packet Length Min', 'Flow Bytes/s', ' Flow Packets/s', ' Flow IAT Mean', ' Flow IAT Std', ' Flow IAT Min', ' Fwd IAT Mean', ' Fwd IAT Min', ' Bwd IAT Mean', ' Bwd IAT Std', ' Bwd IAT Min', ' Fwd URG Flags', ' Fwd Header Length', ' Bwd Header Length', 'Fwd Packets/s', ' Bwd Packets/s', ' Min Packet Length', ' Max Packet Length', ' Packet Length Mean', ' Packet Length Variance', ' RST Flag Count', ' CWE Flag Count', ' ECE Flag Count', ' Down/Up Ratio', ' Average Packet Size', ' Avg Fwd Segment Size', ' Fwd Header Length.1', 'Subflow Fwd Packets', ' Subflow Fwd Bytes', ' Subflow Bwd Packets', ' Subflow Bwd Bytes', ' act_data_pkt_fwd', ' min_seg_size_forward', 'Active Mean', ' Active Std', ' Active Max', ' Active Min', ' Idle Std']\n"
     ]
    }
   ],
   "source": [
    "# Get the column names where the variance is less than or equal to 0.01\n",
    "low_variance_cols = variances[variances <= 0.01].index.tolist()\n",
    "\n",
    "# Print the column names where the variance is less than or equal to 0.01\n",
    "print(\"Columns with variance <= 0.01:\")\n",
    "print(low_variance_cols)"
   ]
  },
  {
   "cell_type": "code",
   "execution_count": null,
   "metadata": {},
   "outputs": [],
   "source": [
    "all_data2 = all_data2.drop(['Total Fwd Packets', 'Total Backward Packets', 'Total Length of Fwd Packets', 'CWE Flag Count',\n",
    "                                       'Total Length of Bwd Packets', 'Fwd Packet Length Max', 'Fwd Packet Length Min',\n",
    "                                          'Fwd Packet Length Mean', 'Fwd Packet Length Std', 'Bwd Packet Length Min', 'Flow Bytes/s',\n",
    "                                           'Flow Packets/s', 'Flow IAT Mean', 'Flow IAT Std',  'Flow IAT Min', 'Fwd IAT Mean', 'Fwd IAT Min', \n",
    "                                           'Bwd IAT Mean', 'Bwd IAT Std', 'Bwd IAT Min', 'Fwd Packets/s', 'Bwd Packets/s',\n",
    "                                             'Min Packet Length', 'Packet Length Variance', 'Fwd URG Flags', 'RST Flag Count',\n",
    "                                               'Down/Up Ratio', 'Avg Fwd Segment Size', 'Subflow Fwd Packets', 'Subflow Fwd Bytes',\n",
    "                                                 'Subflow Bwd Packets', 'Subflow Bwd Bytes', 'act_data_pkt_fwd', 'Active Mean', 'Active Std',\n",
    "                                                   'Active Max', 'Active Min', 'Idle Std', 'ECE Flag Count'], axis=1)\n",
    "\n"
   ]
  },
  {
   "cell_type": "code",
   "execution_count": 40,
   "metadata": {},
   "outputs": [],
   "source": [
    "from sklearn.ensemble import RandomForestClassifier\n",
    "from sklearn.model_selection import train_test_split\n",
    "\n",
    "# Split the DataFrame into feature matrix (X) and target variable (y)\n",
    "X = all_data2.drop('Label', axis=1)\n",
    "y = all_data2['Label']\n",
    "\n",
    "# Split the data into training and testing sets\n",
    "X_train, X_test, y_train, y_test = train_test_split(X, y, test_size=0.2, random_state=42)\n",
    "\n",
    "# Instantiate a random forest classifier\n",
    "rf = RandomForestClassifier()\n",
    "\n",
    "# Fit the random forest classifier on the training data\n",
    "rf.fit(X_train, y_train)\n",
    "\n",
    "# Get feature importances from the trained random forest classifier\n",
    "feature_importances = rf.feature_importances_\n",
    "\n",
    "# Create a DataFrame to store feature importances\n",
    "importance_df = pd.DataFrame({'Feature': X.columns, 'Importance': feature_importances})\n",
    "\n",
    "# Sort the DataFrame by feature importance in descending order\n",
    "importance_df = importance_df.sort_values('Importance', ascending=False)"
   ]
  },
  {
   "cell_type": "code",
   "execution_count": 41,
   "metadata": {},
   "outputs": [
    {
     "name": "stdout",
     "output_type": "stream",
     "text": [
      "                        Feature    Importance\n",
      "73                Source IP_enc  1.317322e-01\n",
      "72                  Flow ID_enc  9.728582e-02\n",
      "75                Timestamp_enc  6.532685e-02\n",
      "15        Bwd Packet Length Std  4.637960e-02\n",
      "74           Destination IP_enc  4.364816e-02\n",
      "54         Avg Bwd Segment Size  3.635287e-02\n",
      "1              Destination Port  3.085152e-02\n",
      "14       Bwd Packet Length Mean  3.011256e-02\n",
      "52          Average Packet Size  2.918564e-02\n",
      "40           Packet Length Mean  2.659110e-02\n",
      "41            Packet Length Std  2.642755e-02\n",
      "12        Bwd Packet Length Max  2.515550e-02\n",
      "13        Bwd Packet Length Min  2.475059e-02\n",
      "57            Subflow Fwd Bytes  2.406579e-02\n",
      "39            Max Packet Length  2.216084e-02\n",
      "42       Packet Length Variance  2.045777e-02\n",
      "61      Init_Win_bytes_backward  1.845803e-02\n",
      "6   Total Length of Fwd Packets  1.636858e-02\n",
      "53         Avg Fwd Segment Size  1.600429e-02\n",
      "8         Fwd Packet Length Max  1.555465e-02\n",
      "60       Init_Win_bytes_forward  1.549968e-02\n",
      "4             Total Fwd Packets  1.515170e-02\n",
      "37                Bwd Packets/s  1.340087e-02\n",
      "10       Fwd Packet Length Mean  1.311950e-02\n",
      "0                   Source Port  1.294908e-02\n",
      "11        Fwd Packet Length Std  1.274945e-02\n",
      "46               PSH Flag Count  1.256893e-02\n",
      "18                Flow IAT Mean  1.120766e-02\n",
      "24                  Fwd IAT Std  1.103269e-02\n",
      "20                 Flow IAT Max  1.081978e-02\n",
      "16                 Flow Bytes/s  9.771994e-03\n",
      "62             act_data_pkt_fwd  8.074769e-03\n",
      "25                  Fwd IAT Max  7.866618e-03\n",
      "36                Fwd Packets/s  6.901273e-03\n",
      "3                 Flow Duration  6.565463e-03\n",
      "56          Subflow Fwd Packets  6.376530e-03\n",
      "58          Subflow Bwd Packets  5.931641e-03\n",
      "5        Total Backward Packets  5.918007e-03\n",
      "22                Fwd IAT Total  5.522662e-03\n",
      "19                 Flow IAT Std  5.238775e-03\n",
      "70                     Idle Max  5.231094e-03\n",
      "23                 Fwd IAT Mean  4.900493e-03\n",
      "68                    Idle Mean  4.838182e-03\n",
      "47               ACK Flag Count  4.821572e-03\n",
      "59            Subflow Bwd Bytes  4.350363e-03\n",
      "17               Flow Packets/s  3.635068e-03\n",
      "38            Min Packet Length  3.151291e-03\n",
      "71                     Idle Min  2.946470e-03\n",
      "51                Down/Up Ratio  2.751863e-03\n",
      "7   Total Length of Bwd Packets  2.214251e-03\n",
      "9         Fwd Packet Length Min  2.092624e-03\n",
      "26                  Fwd IAT Min  1.935104e-03\n",
      "28                 Bwd IAT Mean  1.448881e-03\n",
      "27                Bwd IAT Total  1.318707e-03\n",
      "29                  Bwd IAT Std  1.313761e-03\n",
      "64                  Active Mean  1.299845e-03\n",
      "21                 Flow IAT Min  1.224379e-03\n",
      "30                  Bwd IAT Max  1.196146e-03\n",
      "67                   Active Min  1.108004e-03\n",
      "43               FIN Flag Count  9.771894e-04\n",
      "66                   Active Max  7.831955e-04\n",
      "48               URG Flag Count  7.195946e-04\n",
      "44               SYN Flag Count  6.435255e-04\n",
      "31                  Bwd IAT Min  5.334981e-04\n",
      "32                Fwd PSH Flags  4.861814e-04\n",
      "69                     Idle Std  3.271179e-04\n",
      "65                   Active Std  1.671843e-04\n",
      "35            Bwd Header Length  3.772384e-05\n",
      "2                      Protocol  4.906829e-06\n",
      "55          Fwd Header Length.1  2.434892e-06\n",
      "34            Fwd Header Length  1.835418e-06\n",
      "49               CWE Flag Count  5.587552e-07\n",
      "33                Fwd URG Flags  7.868110e-10\n",
      "45               RST Flag Count  0.000000e+00\n",
      "63         min_seg_size_forward  0.000000e+00\n",
      "50               ECE Flag Count  0.000000e+00\n"
     ]
    }
   ],
   "source": [
    "# Set the maximum number of rows to display in pandas\n",
    "pd.set_option('display.max_rows', None)\n",
    "\n",
    "# Set the desired number of top features to print\n",
    "top_features = importance_df.head(90)\n",
    "print(top_features)"
   ]
  },
  {
   "cell_type": "code",
   "execution_count": 42,
   "metadata": {},
   "outputs": [
    {
     "name": "stdout",
     "output_type": "stream",
     "text": [
      "Feature: Source IP_enc, Importance: 13%\n",
      "Feature: Flow ID_enc, Importance: 9%\n",
      "Feature: Timestamp_enc, Importance: 6%\n",
      "Feature: Bwd Packet Length Std, Importance: 4%\n",
      "Feature: Destination IP_enc, Importance: 4%\n",
      "Feature: Avg Bwd Segment Size, Importance: 3%\n",
      "Feature: Destination Port, Importance: 3%\n",
      "Feature: Bwd Packet Length Mean, Importance: 3%\n",
      "Feature: Average Packet Size, Importance: 2%\n",
      "Feature: Packet Length Mean, Importance: 2%\n",
      "Feature: Packet Length Std, Importance: 2%\n",
      "Feature: Bwd Packet Length Max, Importance: 2%\n",
      "Feature: Bwd Packet Length Min, Importance: 2%\n",
      "Feature: Subflow Fwd Bytes, Importance: 2%\n",
      "Feature: Max Packet Length, Importance: 2%\n",
      "Feature: Packet Length Variance, Importance: 2%\n",
      "Feature: Init_Win_bytes_backward, Importance: 1%\n",
      "Feature: Total Length of Fwd Packets, Importance: 1%\n",
      "Feature: Avg Fwd Segment Size, Importance: 1%\n",
      "Feature: Fwd Packet Length Max, Importance: 1%\n",
      "Feature: Init_Win_bytes_forward, Importance: 1%\n",
      "Feature: Total Fwd Packets, Importance: 1%\n",
      "Feature: Bwd Packets/s, Importance: 1%\n",
      "Feature: Fwd Packet Length Mean, Importance: 1%\n",
      "Feature: Source Port, Importance: 1%\n",
      "Feature: Fwd Packet Length Std, Importance: 1%\n",
      "Feature: PSH Flag Count, Importance: 1%\n",
      "Feature: Flow IAT Mean, Importance: 1%\n",
      "Feature: Fwd IAT Std, Importance: 1%\n",
      "Feature: Flow IAT Max, Importance: 1%\n",
      "Feature: Flow Bytes/s, Importance: 0%\n",
      "Feature: act_data_pkt_fwd, Importance: 0%\n",
      "Feature: Fwd IAT Max, Importance: 0%\n",
      "Feature: Fwd Packets/s, Importance: 0%\n",
      "Feature: Flow Duration, Importance: 0%\n",
      "Feature: Subflow Fwd Packets, Importance: 0%\n",
      "Feature: Subflow Bwd Packets, Importance: 0%\n",
      "Feature: Total Backward Packets, Importance: 0%\n",
      "Feature: Fwd IAT Total, Importance: 0%\n",
      "Feature: Flow IAT Std, Importance: 0%\n",
      "Feature: Idle Max, Importance: 0%\n",
      "Feature: Fwd IAT Mean, Importance: 0%\n",
      "Feature: Idle Mean, Importance: 0%\n",
      "Feature: ACK Flag Count, Importance: 0%\n",
      "Feature: Subflow Bwd Bytes, Importance: 0%\n",
      "Feature: Flow Packets/s, Importance: 0%\n",
      "Feature: Min Packet Length, Importance: 0%\n",
      "Feature: Idle Min, Importance: 0%\n",
      "Feature: Down/Up Ratio, Importance: 0%\n",
      "Feature: Total Length of Bwd Packets, Importance: 0%\n",
      "Feature: Fwd Packet Length Min, Importance: 0%\n",
      "Feature: Fwd IAT Min, Importance: 0%\n",
      "Feature: Bwd IAT Mean, Importance: 0%\n",
      "Feature: Bwd IAT Total, Importance: 0%\n",
      "Feature: Bwd IAT Std, Importance: 0%\n",
      "Feature: Active Mean, Importance: 0%\n",
      "Feature: Flow IAT Min, Importance: 0%\n",
      "Feature: Bwd IAT Max, Importance: 0%\n",
      "Feature: Active Min, Importance: 0%\n",
      "Feature: FIN Flag Count, Importance: 0%\n",
      "Feature: Active Max, Importance: 0%\n",
      "Feature: URG Flag Count, Importance: 0%\n",
      "Feature: SYN Flag Count, Importance: 0%\n",
      "Feature: Bwd IAT Min, Importance: 0%\n",
      "Feature: Fwd PSH Flags, Importance: 0%\n",
      "Feature: Idle Std, Importance: 0%\n",
      "Feature: Active Std, Importance: 0%\n",
      "Feature: Bwd Header Length, Importance: 0%\n",
      "Feature: Protocol, Importance: 0%\n",
      "Feature: Fwd Header Length.1, Importance: 0%\n",
      "Feature: Fwd Header Length, Importance: 0%\n",
      "Feature: CWE Flag Count, Importance: 0%\n",
      "Feature: Fwd URG Flags, Importance: 0%\n",
      "Feature: RST Flag Count, Importance: 0%\n",
      "Feature: min_seg_size_forward, Importance: 0%\n",
      "Feature: ECE Flag Count, Importance: 0%\n"
     ]
    }
   ],
   "source": [
    "for index, row in importance_df.iterrows():\n",
    "    feature = row['Feature']\n",
    "    importance = row['Importance']\n",
    "    importance = int(importance * 100)  # Convert importance to integer percentage value\n",
    "    print(f\"Feature: {feature}, Importance: {importance}%\")"
   ]
  },
  {
   "cell_type": "code",
   "execution_count": 72,
   "metadata": {},
   "outputs": [
    {
     "data": {
      "text/plain": [
       "Index(['Unnamed: 0', ' Source Port', ' Destination Port', ' Protocol',\n",
       "       ' Flow Duration', 'Bwd Packet Length Max', ' Bwd Packet Length Mean',\n",
       "       ' Bwd Packet Length Std', ' Flow IAT Max', 'Fwd IAT Total',\n",
       "       ' Fwd IAT Std', ' Fwd IAT Max', 'Bwd IAT Total', ' Bwd IAT Max',\n",
       "       'Fwd PSH Flags', ' Fwd Header Length', ' Bwd Header Length',\n",
       "       ' Packet Length Mean', ' Packet Length Std', 'FIN Flag Count',\n",
       "       ' SYN Flag Count', ' PSH Flag Count', ' ACK Flag Count',\n",
       "       ' URG Flag Count', ' Avg Bwd Segment Size', ' Fwd Header Length.1',\n",
       "       'Init_Win_bytes_forward', ' Init_Win_bytes_backward',\n",
       "       ' min_seg_size_forward', 'Idle Mean', ' Idle Max', ' Idle Min',\n",
       "       ' Label', 'Flow ID_enc', 'Source IP_enc', 'Destination IP_enc',\n",
       "       'Timestamp_enc'],\n",
       "      dtype='object')"
      ]
     },
     "execution_count": 72,
     "metadata": {},
     "output_type": "execute_result"
    }
   ],
   "source": [
    "all_data2.keys()"
   ]
  },
  {
   "cell_type": "code",
   "execution_count": 26,
   "metadata": {},
   "outputs": [],
   "source": [
    "# Features to be dropped\n",
    "features_to_drop = ['Flow Bytes/s',\n",
    "    ' act_data_pkt_fwd',\n",
    "    ' Fwd IAT Max',\n",
    "    'Fwd Packets/s',\n",
    "    ' Flow Duration',\n",
    "    'Subflow Fwd Packets',\n",
    "    ' Subflow Bwd Packets',\n",
    "    ' Total Backward Packets',\n",
    "    'Fwd IAT Total',\n",
    "    ' Flow IAT Std',\n",
    "    ' Idle Max',\n",
    "    ' Fwd IAT Mean',\n",
    "    'Idle Mean',\n",
    "    ' ACK Flag Count',\n",
    "    ' Subflow Bwd Bytes',\n",
    "    ' Flow Packets/s',\n",
    "    ' Min Packet Length',\n",
    "    ' Idle Min',\n",
    "    ' Down/Up Ratio',\n",
    "    ' Total Length of Bwd Packets',\n",
    "    ' Fwd Packet Length Min',\n",
    "    ' Fwd IAT Min',\n",
    "    ' Bwd IAT Mean',\n",
    "    'Bwd IAT Total',\n",
    "    ' Bwd IAT Std',\n",
    "    'Active Mean',\n",
    "    ' Flow IAT Min',\n",
    "    ' Bwd IAT Max',\n",
    "    ' Active Min',\n",
    "    'FIN Flag Count',\n",
    "    ' Active Max',\n",
    "    ' URG Flag Count',\n",
    "    ' SYN Flag Count',\n",
    "    ' Bwd IAT Min',\n",
    "    'Fwd PSH Flags',\n",
    "    ' Idle Std',\n",
    "    ' Active Std',\n",
    "    ' Bwd Header Length',\n",
    "    ' Protocol',\n",
    "    ' Fwd Header Length.1',\n",
    "    ' Fwd Header Length',\n",
    "    ' CWE Flag Count',\n",
    "    ' Fwd URG Flags',\n",
    "    ' RST Flag Count',\n",
    "    ' min_seg_size_forward',\n",
    "    ' ECE Flag Count']\n",
    "\n",
    "\n",
    "# Drop the specified features from the dataset\n",
    "all_data2 = all_data2.drop(features_to_drop, axis=1)"
   ]
  },
  {
   "cell_type": "code",
   "execution_count": 28,
   "metadata": {},
   "outputs": [
    {
     "data": {
      "text/plain": [
       "(2827876, 31)"
      ]
     },
     "execution_count": 28,
     "metadata": {},
     "output_type": "execute_result"
    }
   ],
   "source": [
    "all_data2.shape"
   ]
  },
  {
   "cell_type": "code",
   "execution_count": 27,
   "metadata": {},
   "outputs": [
    {
     "name": "stdout",
     "output_type": "stream",
     "text": [
      "['BENIGN' 'FTP-Patator' 'SSH-Patator' 'DoS slowloris' 'DoS Slowhttptest'\n",
      " 'DoS Hulk' 'DoS GoldenEye' 'Heartbleed' 'Web Attack \\x96 Brute Force'\n",
      " 'Web Attack \\x96 XSS' 'Web Attack \\x96 Sql Injection' 'Infiltration'\n",
      " 'DDoS' 'PortScan' 'Bot']\n"
     ]
    }
   ],
   "source": [
    "print(all_data2[' Label'].unique())\n"
   ]
  },
  {
   "cell_type": "code",
   "execution_count": 30,
   "metadata": {},
   "outputs": [
    {
     "name": "stdout",
     "output_type": "stream",
     "text": [
      "['BENIGN' 'FTP-Patator' 'SSH-Patator' 'DoS slowloris' 'DoS Slowhttptest'\n",
      " 'DoS Hulk' 'DoS GoldenEye' 'Heartbleed' 'Web Attack \\x96 Brute Force'\n",
      " 'Web Attack \\x96 XSS' 'Web Attack \\x96 Sql Injection' 'Infiltration'\n",
      " 'DDoS' 'PortScan' 'Bot']\n"
     ]
    }
   ],
   "source": [
    "print(all_data2.loc[:,' Label'].unique())"
   ]
  },
  {
   "cell_type": "code",
   "execution_count": 31,
   "metadata": {},
   "outputs": [
    {
     "name": "stdout",
     "output_type": "stream",
     "text": [
      "BENIGN                        2271320\n",
      "DoS Hulk                       230124\n",
      "PortScan                       158804\n",
      "DDoS                           128025\n",
      "DoS GoldenEye                   10293\n",
      "FTP-Patator                      7935\n",
      "SSH-Patator                      5897\n",
      "DoS slowloris                    5796\n",
      "DoS Slowhttptest                 5499\n",
      "Bot                              1956\n",
      "Web Attack  Brute Force         1507\n",
      "Web Attack  XSS                  652\n",
      "Infiltration                       36\n",
      "Web Attack  Sql Injection         21\n",
      "Heartbleed                         11\n",
      "Name:  Label, dtype: int64\n"
     ]
    }
   ],
   "source": [
    "print(all_data2.loc[:,' Label'].value_counts())"
   ]
  },
  {
   "cell_type": "code",
   "execution_count": 32,
   "metadata": {},
   "outputs": [],
   "source": [
    "label_newdf=all_data2[' Label']\n",
    "\n",
    "newlabeldf=label_newdf.replace({'BENIGN': 0, # normal\n",
    "                            'DoS slowloris': 1, 'DoS Slowhttptest': 1, 'DoS Hulk': 1, 'DoS GoldenEye': 1, # Dos\n",
    "                            'DDoS': 2,  # DDos\n",
    "                            'Web Attack \\x96 Brute Force': 3, 'Web Attack \\x96 XSS': 3, 'Web Attack \\x96 Sql Injection': 3, # Web Attack\n",
    "                            'Bot': 4,   # Botnet\n",
    "                            #'Infiltration': ,   \n",
    "                            'PortScan': 5,  # PortScan\n",
    "                            'Heartbleed': 6, # Heartbleed\n",
    "                            'FTP-Patator': 7, 'SSH-Patator': 7 # Patator\n",
    "                            })\n",
    "\n",
    "all_data2[' Label'] = newlabeldf"
   ]
  },
  {
   "cell_type": "code",
   "execution_count": 36,
   "metadata": {},
   "outputs": [
    {
     "name": "stdout",
     "output_type": "stream",
     "text": [
      "[0 7 1 6 3 2 5 4]\n"
     ]
    }
   ],
   "source": [
    "print(all_data2.loc[:,' Label'].unique())"
   ]
  },
  {
   "cell_type": "code",
   "execution_count": 37,
   "metadata": {},
   "outputs": [
    {
     "name": "stdout",
     "output_type": "stream",
     "text": [
      "0    2271320\n",
      "1     251712\n",
      "5     158804\n",
      "2     128025\n",
      "7      13832\n",
      "3       2180\n",
      "4       1956\n",
      "6         11\n",
      "Name:  Label, dtype: int64\n"
     ]
    }
   ],
   "source": [
    "print(all_data2.loc[:,' Label'].value_counts())"
   ]
  },
  {
   "cell_type": "code",
   "execution_count": 35,
   "metadata": {},
   "outputs": [],
   "source": [
    "# Remove rows with 'BENIGN' or 'Infiltration' in the 'Label' column\n",
    "all_data2 = all_data2[~all_data2[' Label'].isin(['Infiltration'])]"
   ]
  },
  {
   "cell_type": "code",
   "execution_count": 38,
   "metadata": {},
   "outputs": [
    {
     "data": {
      "text/plain": [
       "(2827840, 31)"
      ]
     },
     "execution_count": 38,
     "metadata": {},
     "output_type": "execute_result"
    }
   ],
   "source": [
    "all_data2.shape"
   ]
  },
  {
   "cell_type": "code",
   "execution_count": 29,
   "metadata": {},
   "outputs": [
    {
     "name": "stdout",
     "output_type": "stream",
     "text": [
      "(2271320, 38)\n",
      "(251712, 38)\n",
      "(128025, 38)\n",
      "(2180, 38)\n",
      "(1956, 38)\n",
      "(158804, 38)\n",
      "(11, 38)\n",
      "(13832, 38)\n"
     ]
    }
   ],
   "source": [
    "# Define attack categories\n",
    "Normal = [0]\n",
    "DoS = [1]\n",
    "DDoS = [2]\n",
    "Web_Attack = [3]\n",
    "Botnet = [4]\n",
    "Scan = [5]\n",
    "Heartbleed = [6]\n",
    "Patator = [7]\n",
    "\n",
    "# create separate dataframes for each attack category\n",
    "normal_df = all_data[all_data['Label'].isin(Normal)]\n",
    "dos_df = all_data[all_data['Label'].isin(DoS)]\n",
    "ddoS_df= all_data[all_data['Label'].isin(DDoS)]\n",
    "web_attack_df = all_data[all_data['Label'].isin(Web_Attack)]\n",
    "botnet_df = all_data[all_data['Label'].isin(Botnet)]\n",
    "scan_df = all_data[all_data['Label'].isin(Scan)]\n",
    "heartbleed_df = all_data[all_data['Label'].isin(Heartbleed)]\n",
    "patator_df = all_data[all_data['Label'].isin(Patator)]\n",
    "\n",
    "# check the first 10 rows of each dataframe\n",
    "print(normal_df.shape)\n",
    "print(dos_df.shape)\n",
    "print(ddoS_df.shape)\n",
    "print(web_attack_df.shape)\n",
    "print(botnet_df.shape)\n",
    "print(scan_df.shape)\n",
    "print(heartbleed_df.shape)\n",
    "print(patator_df.shape)"
   ]
  },
  {
   "cell_type": "code",
   "execution_count": 30,
   "metadata": {},
   "outputs": [],
   "source": [
    "normal_df.to_csv(\"attacks\\\\normal.csv\", index=False)\n",
    "dos_df.to_csv(\"attacks\\\\dos.csv\", index=False)\n",
    "ddoS_df.to_csv(\"attacks\\\\ddos.csv\", index=False)\n",
    "web_attack_df.to_csv(\"attacks\\\\web_attack.csv\", index=False)\n",
    "botnet_df.to_csv(\"attacks\\\\botnet.csv\", index=False)\n",
    "scan_df.to_csv(\"attacks\\\\scan.csv\", index=False)\n",
    "heartbleed_df.to_csv(\"attacks\\\\heartbleed.csv\", index=False)\n",
    "patator_df.to_csv(\"attacks\\\\patator.csv\", index=False)"
   ]
  },
  {
   "cell_type": "code",
   "execution_count": 1,
   "metadata": {},
   "outputs": [],
   "source": [
    "import pandas as pd\n",
    "normal_df = pd.read_csv('attacks/normal.csv')\n",
    "dos_df = pd.read_csv('attacks/dos.csv')\n",
    "ddoS_df = pd.read_csv('attacks/ddoS.csv')\n",
    "web_attack_df = pd.read_csv('attacks/web_attack.csv')\n",
    "botnet_df = pd.read_csv('attacks/botnet.csv')\n",
    "scan_df = pd.read_csv('attacks/scan.csv')\n",
    "heartbleed_df = pd.read_csv('attacks/heartbleed.csv')\n",
    "patator_df = pd.read_csv('attacks/patator.csv')"
   ]
  },
  {
   "cell_type": "code",
   "execution_count": 14,
   "metadata": {},
   "outputs": [
    {
     "name": "stdout",
     "output_type": "stream",
     "text": [
      "[3]\n"
     ]
    }
   ],
   "source": [
    "print(web_attack_df['Label'].unique())"
   ]
  },
  {
   "cell_type": "code",
   "execution_count": 15,
   "metadata": {},
   "outputs": [],
   "source": [
    "cic_df = pd.concat([normal_df, dos_df, ddoS_df, web_attack_df, botnet_df, scan_df, heartbleed_df, patator_df])\n",
    "\n",
    "# Save the combined dataframe as CSV file\n",
    "#cic_df.to_csv('cic.csv', index=False)\n"
   ]
  },
  {
   "cell_type": "code",
   "execution_count": 17,
   "metadata": {},
   "outputs": [
    {
     "name": "stdout",
     "output_type": "stream",
     "text": [
      "0    2271320\n",
      "1     251712\n",
      "5     158804\n",
      "2     128025\n",
      "7      13832\n",
      "3       2180\n",
      "4       1956\n",
      "6         11\n",
      "Name: Label, dtype: int64\n"
     ]
    }
   ],
   "source": [
    "print(cic_df[' Label'].value_counts())"
   ]
  },
  {
   "cell_type": "code",
   "execution_count": 143,
   "metadata": {},
   "outputs": [
    {
     "name": "stdout",
     "output_type": "stream",
     "text": [
      "Saved 2500 rows to 0.csv\n",
      "Saved 2500 rows to 1.csv\n",
      "Saved 2500 rows to 2.csv\n",
      "Saved 2500 rows to 3.csv\n",
      "Saved 2500 rows to 4.csv\n",
      "Saved 2500 rows to 5.csv\n",
      "Saved 2500 rows to 6.csv\n",
      "Saved 2500 rows to 7.csv\n"
     ]
    }
   ],
   "source": [
    "# Group the DataFrame by the 'Label_enc' column\n",
    "groups = cic_df.groupby(' Label')\n",
    "\n",
    "# Iterate through the groups and save each group to a separate CSV file\n",
    "for label, group in groups:\n",
    "    filename = f'{label}.csv'\n",
    "    group.to_csv(filename, index=False)\n",
    "    print(f'Saved {len(group)} rows to {filename}')"
   ]
  },
  {
   "cell_type": "code",
   "execution_count": 144,
   "metadata": {},
   "outputs": [
    {
     "name": "stdout",
     "output_type": "stream",
     "text": [
      "Normalized saved to 0.csv\n",
      "Normalized saved to 1.csv\n",
      "Normalized saved to 2.csv\n",
      "Normalized saved to 3.csv\n",
      "Normalized saved to 4.csv\n",
      "Normalized saved to 5.csv\n",
      "Normalized saved to 6.csv\n",
      "Normalized saved to 7.csv\n"
     ]
    }
   ],
   "source": [
    "import pandas as pd\n",
    "\n",
    "# List of file names\n",
    "files = ['0.csv', '1.csv', '2.csv', '3.csv', '4.csv', '5.csv','6.csv', '7.csv']\n",
    " \n",
    "# Iterate over each file\n",
    "for file in files:\n",
    "    # Read the CSV file\n",
    "    df = pd.read_csv(file)\n",
    "    \n",
    "    # Extract the 'Label' column\n",
    "    labels = df[' Label']\n",
    "    \n",
    "    # Normalize the labels between 0 and 1 by dividing by 7 and round to 2 decimal places\n",
    "    normalized_labels = (labels / 7).round(2)\n",
    "    \n",
    "    # Update the 'Label' column with the normalized values\n",
    "    df[' Label'] = normalized_labels\n",
    "    \n",
    "    # Save the updated DataFrame to a new CSV file\n",
    "    new_filename = file\n",
    "    df.to_csv(new_filename, index=False)\n",
    "    \n",
    "    print(f\"Normalized saved to {new_filename}\")"
   ]
  },
  {
   "cell_type": "code",
   "execution_count": 140,
   "metadata": {},
   "outputs": [],
   "source": [
    "import pandas as pd\n",
    "\n",
    "cic_df = pd.read_csv('section3.csv')"
   ]
  },
  {
   "cell_type": "code",
   "execution_count": 141,
   "metadata": {},
   "outputs": [
    {
     "name": "stdout",
     "output_type": "stream",
     "text": [
      "0    2500\n",
      "1    2500\n",
      "2    2500\n",
      "3    2500\n",
      "4    2500\n",
      "5    2500\n",
      "6    2500\n",
      "7    2500\n",
      "Name:  Label, dtype: int64\n"
     ]
    }
   ],
   "source": [
    "print(cic_df[' Label'].value_counts())"
   ]
  },
  {
   "cell_type": "code",
   "execution_count": 142,
   "metadata": {},
   "outputs": [
    {
     "data": {
      "text/plain": [
       "(20000, 31)"
      ]
     },
     "execution_count": 142,
     "metadata": {},
     "output_type": "execute_result"
    }
   ],
   "source": [
    "cic_df.shape"
   ]
  },
  {
   "cell_type": "code",
   "execution_count": 152,
   "metadata": {},
   "outputs": [],
   "source": [
    "import numpy as np\n",
    "import pandas as pd\n",
    "from PIL import Image\n",
    "import matplotlib.pyplot as plt\n",
    "\n",
    "\"\"\"newlabeldf=label_newdf.replace({'BENIGN': 0, # normal\n",
    "                            'DoS slowloris': 1, 'DoS Slowhttptest': 1, 'DoS Hulk': 1, 'DoS GoldenEye': 1, # Dos\n",
    "                            'DDoS': 2,  # DDos\n",
    "                            'Web Attack \\x96 Brute Force': 3, 'Web Attack \\x96 XSS': 3, 'Web Attack \\x96 Sql Injection': 3, # Web Attack\n",
    "                            'Bot': 4,   # Botnet\n",
    "                            #'Infiltration': ,   \n",
    "                            'PortScan': 5,  # PortScan\n",
    "                            'Heartbleed': 6, # heartbleed\n",
    "                            'FTP-Patator': 7, 'SSH-Patator': 7, # Patator\n",
    "                            })\"\"\"\n",
    "\n",
    "# Load the CSV file into a pandas DataFrame\n",
    "web_attack_train = pd.read_csv('7.csv')\n",
    "\n",
    "# Reshape the DataFrame into a 2D matrix\n",
    "matrix = web_attack_train.values.reshape(web_attack_train.shape)\n",
    "\n",
    "# Normalize the matrix to the range [0, 1]\n",
    "normalized_matrix = (matrix - matrix.min()) / (matrix.max() - matrix.min())\n",
    "\n",
    "# Apply a colormap to convert the matrix to RGB values\n",
    "cmap = plt.get_cmap('gray')\n",
    "colored_matrix = cmap(normalized_matrix)\n",
    "\n",
    "# Remove the extra dimension from the colored matrix\n",
    "colored_matrix = np.squeeze(colored_matrix)\n",
    "\n",
    "# Convert the colored matrix into a PIL Image\n",
    "image = Image.fromarray(np.uint8(colored_matrix*255))\n",
    "\n",
    "# Save the image\n",
    "image.save('S3/patator.png')"
   ]
  },
  {
   "cell_type": "code",
   "execution_count": 160,
   "metadata": {},
   "outputs": [
    {
     "name": "stdout",
     "output_type": "stream",
     "text": [
      "(11, 1, 1, 224, 31, 3)\n"
     ]
    }
   ],
   "source": [
    "import numpy as np\n",
    "from patchify import patchify\n",
    "from PIL import Image\n",
    "\n",
    "image = Image.open(\"S3/web.png\")\n",
    "image_array = np.asarray(image)\n",
    "# NUM TA3 LES COLS\n",
    "patches = patchify(image_array, (224, 31, 3), step=224)\n",
    "print(patches.shape)\n",
    "\n",
    "for i in range(patches.shape[0]):\n",
    "    for j in range(patches.shape[1]):\n",
    "        patch = patches[i, j, 0]\n",
    "        patch = Image.fromarray(patch)\n",
    "        num = i * patches.shape[1] + j\n",
    "        patch.save(f\"S3patch/patch_web_attack_{num}.png\")"
   ]
  },
  {
   "cell_type": "code",
   "execution_count": 161,
   "metadata": {},
   "outputs": [],
   "source": [
    "import os\n",
    "import csv\n",
    "\n",
    "path = 'S3patch/'\n",
    "labels = []\n",
    "\n",
    "for filename in os.listdir(path):\n",
    "    if 'normal' in filename:\n",
    "        label = 0\n",
    "        labels.append(label)\n",
    "    \"\"\"if 'attack' in filename:\n",
    "        label = 1\n",
    "        labels.append(label)\"\"\"\n",
    "    if 'heartbleed' in filename:\n",
    "        label = 6\n",
    "        labels.append(label)\n",
    "    if 'DDos' in filename:\n",
    "        label = 2\n",
    "        labels.append(label)\n",
    "    if 'dos' in filename:\n",
    "        label = 1\n",
    "        labels.append(label)\n",
    "    if 'web_attack' in filename:\n",
    "        label = 3\n",
    "        labels.append(label)\n",
    "    if 'scan' in filename:\n",
    "        label = 5\n",
    "        labels.append(label)\n",
    "    if 'botnet' in filename:\n",
    "        label = 4\n",
    "        labels.append(label)\n",
    "    if 'patator' in filename:\n",
    "        label = 7\n",
    "        labels.append(label)\n",
    "\n",
    "\n",
    "with open('S3labels/labels_rf.csv', 'w', newline='') as csvfile:\n",
    "    writer = csv.writer(csvfile)\n",
    "    for label in labels:\n",
    "        writer.writerow([label])\n"
   ]
  },
  {
   "cell_type": "code",
   "execution_count": 178,
   "metadata": {},
   "outputs": [
    {
     "name": "stdout",
     "output_type": "stream",
     "text": [
      "(88, 224, 31, 3)\n"
     ]
    }
   ],
   "source": [
    "import numpy as np\n",
    "from PIL import Image\n",
    "import os\n",
    "\n",
    "path = 'S1patch/'\n",
    "images = []\n",
    "\n",
    "for filename in os.listdir(path):\n",
    "    if filename.endswith('.jpeg') or filename.endswith('.png'):\n",
    "        img = Image.open(os.path.join(path, filename))\n",
    "        images_arr_train = np.array(img)\n",
    "        images.append(images_arr_train)\n",
    "\n",
    "images_arr_train = np.array(images)\n",
    "print(images_arr_train.shape)"
   ]
  },
  {
   "cell_type": "code",
   "execution_count": 179,
   "metadata": {},
   "outputs": [
    {
     "name": "stdout",
     "output_type": "stream",
     "text": [
      "labels 4 shape : (88, 1)\n"
     ]
    }
   ],
   "source": [
    "import pandas as pd\n",
    "\n",
    "labels_train = pd.read_csv(\"S1labels/labels_rf.csv\", header=None)\n",
    "\n",
    "print('labels 4 shape : ' + str(labels_train.shape))"
   ]
  },
  {
   "cell_type": "code",
   "execution_count": 164,
   "metadata": {},
   "outputs": [
    {
     "data": {
      "text/plain": [
       "0    11\n",
       "1    11\n",
       "2    11\n",
       "3    11\n",
       "4    11\n",
       "5    11\n",
       "6    11\n",
       "7    11\n",
       "dtype: int64"
      ]
     },
     "execution_count": 164,
     "metadata": {},
     "output_type": "execute_result"
    }
   ],
   "source": [
    "labels_train.value_counts()"
   ]
  },
  {
   "cell_type": "code",
   "execution_count": 82,
   "metadata": {},
   "outputs": [],
   "source": [
    "import pandas as pd\n",
    "\n",
    "all_data2 = pd.read_csv(\"20kOR.csv\", encoding=\"utf-8\")"
   ]
  },
  {
   "cell_type": "code",
   "execution_count": 87,
   "metadata": {},
   "outputs": [
    {
     "name": "stdout",
     "output_type": "stream",
     "text": [
      "0    2500\n",
      "1    2500\n",
      "2    2500\n",
      "3    2500\n",
      "4    2500\n",
      "5    2500\n",
      "6    2500\n",
      "7    2500\n",
      "Name:  Label, dtype: int64\n"
     ]
    }
   ],
   "source": [
    "print(all_data2[' Label'].value_counts())"
   ]
  },
  {
   "cell_type": "code",
   "execution_count": 88,
   "metadata": {},
   "outputs": [
    {
     "data": {
      "text/plain": [
       "(20000, 31)"
      ]
     },
     "execution_count": 88,
     "metadata": {},
     "output_type": "execute_result"
    }
   ],
   "source": [
    "all_data2.shape"
   ]
  },
  {
   "cell_type": "code",
   "execution_count": 85,
   "metadata": {},
   "outputs": [],
   "source": [
    "from imblearn.under_sampling import RandomUnderSampler\n",
    "import pandas as pd\n",
    "\n",
    "X = all_data2.drop(' Label', axis=1)\n",
    "y = all_data2[' Label']\n",
    "\n",
    "rus = RandomUnderSampler(sampling_strategy={0: 2500, 1: 2500, 5: 2500, 2: 2500, 7: 2500}, random_state=42)\n",
    "X_resampled, y_resampled = rus.fit_resample(X, y)\n",
    "\n",
    "all_data2 = pd.concat([pd.DataFrame(X_resampled), pd.DataFrame(y_resampled)], axis=1)\n",
    "all_data2.columns = list(X.columns) + [' Label']"
   ]
  },
  {
   "cell_type": "code",
   "execution_count": 86,
   "metadata": {},
   "outputs": [],
   "source": [
    "from imblearn.over_sampling import RandomOverSampler\n",
    "from imblearn.over_sampling import SMOTE\n",
    "import pandas as pd\n",
    "\n",
    "X = all_data2.drop(' Label', axis=1)\n",
    "y = all_data2[' Label']\n",
    "\n",
    "ros = SMOTE(sampling_strategy={3: 2500, 4: 2500, 6: 2500}, random_state=42)\n",
    "X_resampled, y_resampled = ros.fit_resample(X, y)\n",
    "\n",
    "all_data2 = pd.concat([pd.DataFrame(X_resampled), pd.DataFrame(y_resampled)], axis=1)\n",
    "all_data2.columns = list(X.columns) + [' Label']"
   ]
  },
  {
   "cell_type": "code",
   "execution_count": 89,
   "metadata": {},
   "outputs": [],
   "source": [
    "all_data2.to_csv('section3.csv', index=False)"
   ]
  },
  {
   "cell_type": "code",
   "execution_count": 165,
   "metadata": {},
   "outputs": [
    {
     "name": "stderr",
     "output_type": "stream",
     "text": [
      "c:\\Users\\dz laptops\\AppData\\Local\\Programs\\Python\\Python310\\lib\\site-packages\\tensorflow_addons\\utils\\tfa_eol_msg.py:23: UserWarning: \n",
      "\n",
      "TensorFlow Addons (TFA) has ended development and introduction of new features.\n",
      "TFA has entered a minimal maintenance and release mode until a planned end of life in May 2024.\n",
      "Please modify downstream libraries to take dependencies from other repositories in our TensorFlow community (e.g. Keras, Keras-CV, and Keras-NLP). \n",
      "\n",
      "For more information see: https://github.com/tensorflow/addons/issues/2807 \n",
      "\n",
      "  warnings.warn(\n"
     ]
    }
   ],
   "source": [
    "import numpy as np\n",
    "import tensorflow as tf\n",
    "from tensorflow import keras\n",
    "from tensorflow.keras import layers\n",
    "import tensorflow_addons as tfa"
   ]
  },
  {
   "cell_type": "code",
   "execution_count": 166,
   "metadata": {},
   "outputs": [],
   "source": [
    "num_classes = 9\n",
    "input_shape = (224, 31, 3)"
   ]
  },
  {
   "cell_type": "code",
   "execution_count": 167,
   "metadata": {},
   "outputs": [],
   "source": [
    "learning_rate = 0.001\n",
    "weight_decay = 0.0001\n",
    "batch_size = 40\n",
    "num_epochs = 50\n",
    "image_size = 224  # We'll resize input images to this size\n",
    "patch_size = 16  # Size of the patches to be extract from the input images\n",
    "num_patches = (image_size // patch_size) ** 2\n",
    "projection_dim = 64\n",
    "num_heads = 4\n",
    "transformer_units = [\n",
    "    projection_dim * 2,\n",
    "    projection_dim,\n",
    "]  # Size of the transformer layers\n",
    "transformer_layers = 8\n",
    "mlp_head_units = [2048, 1024]  # Size of the dense layers of the final classifier"
   ]
  },
  {
   "cell_type": "code",
   "execution_count": 168,
   "metadata": {},
   "outputs": [],
   "source": [
    "data_augmentation = keras.Sequential(\n",
    "    [\n",
    "        layers.Normalization(),\n",
    "        layers.Resizing(image_size, image_size),\n",
    "        layers.RandomFlip(\"horizontal\"),\n",
    "        layers.RandomRotation(factor=0.02),\n",
    "        layers.RandomZoom(\n",
    "            height_factor=0.2, width_factor=0.2\n",
    "        ),\n",
    "    ],\n",
    "    name=\"data_augmentation\",\n",
    ")\n",
    "# Compute the mean and the variance of the training data for normalization.\n",
    "data_augmentation.layers[0].adapt(images_arr_train)"
   ]
  },
  {
   "cell_type": "code",
   "execution_count": 169,
   "metadata": {},
   "outputs": [],
   "source": [
    "def mlp(x, hidden_units, dropout_rate):\n",
    "    for units in hidden_units:\n",
    "        x = layers.Dense(units, activation=tf.nn.gelu)(x)\n",
    "        x = layers.Dropout(dropout_rate)(x)\n",
    "    return x"
   ]
  },
  {
   "cell_type": "code",
   "execution_count": 170,
   "metadata": {},
   "outputs": [],
   "source": [
    "from tensorflow.keras import layers\n",
    "\n",
    "# Define the custom layer 'Patches'\n",
    "class Patches(layers.Layer):\n",
    "    def __init__(self, patch_size, **kwargs):\n",
    "        super(Patches, self).__init__(**kwargs)\n",
    "        self.patch_size = patch_size\n",
    "\n",
    "    def call(self, images):\n",
    "        batch_size = tf.shape(images)[0]\n",
    "        patches = tf.image.extract_patches(\n",
    "            images=images,\n",
    "            sizes=[1, self.patch_size, self.patch_size, 1],\n",
    "            strides=[1, self.patch_size, self.patch_size, 1],\n",
    "            rates=[1, 1, 1, 1],\n",
    "            padding=\"VALID\",\n",
    "        )\n",
    "        patch_dims = patches.shape[-1]\n",
    "        patches = tf.reshape(patches, [batch_size, -1, patch_dims])\n",
    "        return patches"
   ]
  },
  {
   "cell_type": "code",
   "execution_count": 24,
   "metadata": {},
   "outputs": [],
   "source": [
    "# Define the custom layer 'Patches'\n",
    "class Patches(keras.layers.Layer):\n",
    "    def __init__(self, patch_size, **kwargs):\n",
    "        super(Patches, self).__init__(**kwargs)\n",
    "        self.patch_size = patch_size\n",
    "\n",
    "    def call(self, images):\n",
    "        batch_size = tf.shape(images)[0]\n",
    "        patches = tf.image.extract_patches(\n",
    "            images=images,\n",
    "            sizes=[1, self.patch_size, self.patch_size, 1],\n",
    "            strides=[1, self.patch_size, self.patch_size, 1],\n",
    "            rates=[1, 1, 1, 1],\n",
    "            padding=\"VALID\",\n",
    "        )\n",
    "        patch_dims = patches.shape[-1]\n",
    "        patches = tf.reshape(patches, [batch_size, -1, patch_dims])\n",
    "        return patches"
   ]
  },
  {
   "cell_type": "code",
   "execution_count": 22,
   "metadata": {},
   "outputs": [],
   "source": [
    "class Patches(layers.Layer):\n",
    "    def __init__(self, patch_size):\n",
    "        super().__init__()\n",
    "        self.patch_size = patch_size\n",
    "\n",
    "    def call(self, images):\n",
    "        batch_size = tf.shape(images)[0]\n",
    "        patches = tf.image.extract_patches(\n",
    "            images=images,\n",
    "            sizes=[1, self.patch_size, self.patch_size, 1],\n",
    "            strides=[1, self.patch_size, self.patch_size, 1],\n",
    "            rates=[1, 1, 1, 1],\n",
    "            padding=\"VALID\",\n",
    "        )\n",
    "        patch_dims = patches.shape[-1]\n",
    "        patches = tf.reshape(patches, [batch_size, -1, patch_dims])\n",
    "        return patches"
   ]
  },
  {
   "cell_type": "code",
   "execution_count": 171,
   "metadata": {},
   "outputs": [
    {
     "name": "stdout",
     "output_type": "stream",
     "text": [
      "Image size: 224 X 224\n",
      "Patch size: 16 X 16\n",
      "Patches per image: 196\n",
      "Elements per patch: 768\n"
     ]
    },
    {
     "data": {
      "image/png": "[encoded data removed]",
      "text/plain": [
       "<Figure size 400x400 with 1 Axes>"
      ]
     },
     "metadata": {},
     "output_type": "display_data"
    },
    {
     "data": {
      "image/png": "[encoded data removed]",
      "text/plain": [
       "<Figure size 400x400 with 196 Axes>"
      ]
     },
     "metadata": {},
     "output_type": "display_data"
    }
   ],
   "source": [
    "import matplotlib.pyplot as plt\n",
    "\n",
    "plt.figure(figsize=(4, 4))\n",
    "image = images_arr_train[np.random.choice(images_arr_train.shape[-1])]\n",
    "plt.imshow(image.astype(\"uint8\"))\n",
    "plt.axis(\"off\")\n",
    "\n",
    "resized_image = tf.image.resize(\n",
    "    tf.convert_to_tensor([image]), size=(image_size, image_size)\n",
    ")\n",
    "patches = Patches(patch_size)(resized_image)\n",
    "print(f\"Image size: {image_size} X {image_size}\")\n",
    "print(f\"Patch size: {patch_size} X {patch_size}\")\n",
    "print(f\"Patches per image: {patches.shape[1]}\")\n",
    "print(f\"Elements per patch: {patches.shape[-1]}\")\n",
    "\n",
    "n = int(np.sqrt(patches.shape[1]))\n",
    "plt.figure(figsize=(4, 4))\n",
    "for i, patch in enumerate(patches[0]):\n",
    "    ax = plt.subplot(n, n, i + 1)\n",
    "    patch_img = tf.reshape(patch, (patch_size, patch_size, 3))\n",
    "    plt.imshow(patch_img.numpy().astype(\"uint8\"))\n",
    "    plt.axis(\"off\")"
   ]
  },
  {
   "cell_type": "code",
   "execution_count": 172,
   "metadata": {},
   "outputs": [],
   "source": [
    "# Define the custom layer 'PatchEncoder'\n",
    "class PatchEncoder(keras.layers.Layer):\n",
    "    def __init__(self, num_patches, projection_dim, name='patch_encoder'):\n",
    "        super(PatchEncoder, self).__init__(name=name)\n",
    "        self.num_patches = num_patches\n",
    "        self.projection = keras.layers.Dense(units=projection_dim)\n",
    "        self.position_embedding = keras.layers.Embedding(\n",
    "            input_dim=num_patches, output_dim=projection_dim\n",
    "        )\n",
    "\n",
    "    def call(self, patch):\n",
    "        positions = tf.range(start=0, limit=self.num_patches, delta=1)\n",
    "        encoded = self.projection(patch) + self.position_embedding(positions)\n",
    "        return encoded\n",
    "\n",
    "    @classmethod\n",
    "    def from_config(cls, config):\n",
    "        config.pop('trainable', None)\n",
    "        return cls(\n",
    "            num_patches=config['num_patches'],\n",
    "            projection_dim=config['projection_dim'],\n",
    "            name=config['name']\n",
    "        )"
   ]
  },
  {
   "cell_type": "code",
   "execution_count": 28,
   "metadata": {},
   "outputs": [],
   "source": [
    "# Define the custom layer 'PatchEncoder'\n",
    "class PatchEncoder(layers.Layer):\n",
    "    def __init__(self, num_patches, projection_dim, name='patch_encoder'):\n",
    "        super(PatchEncoder, self).__init__(name=name)\n",
    "        self.num_patches = num_patches\n",
    "        self.projection = layers.Dense(units=projection_dim)\n",
    "        self.position_embedding = layers.Embedding(\n",
    "            input_dim=num_patches, output_dim=projection_dim\n",
    "        )\n",
    "\n",
    "    def call(self, patch):\n",
    "        positions = tf.range(start=0, limit=self.num_patches, delta=1)\n",
    "        encoded = self.projection(patch) + self.position_embedding(positions)\n",
    "        return encoded\n",
    "\n",
    "    @classmethod\n",
    "    def from_config(cls, config):\n",
    "        config.pop('trainable', None)\n",
    "        return cls(\n",
    "            num_patches=config['num_patches'],\n",
    "            projection_dim=config['projection_dim'],\n",
    "            name=config['name']\n",
    "        )"
   ]
  },
  {
   "cell_type": "code",
   "execution_count": 26,
   "metadata": {},
   "outputs": [],
   "source": [
    "class PatchEncoder(layers.Layer):\n",
    "    def __init__(self, num_patches, projection_dim, name='patch_encoder'):\n",
    "        super(PatchEncoder, self).__init__(name=name)\n",
    "        self.num_patches = num_patches\n",
    "        self.projection = layers.Dense(units=projection_dim)\n",
    "        self.position_embedding = layers.Embedding(\n",
    "            input_dim=num_patches, output_dim=projection_dim\n",
    "        )\n",
    "\n",
    "    def call(self, patch):\n",
    "        positions = tf.range(start=0, limit=self.num_patches, delta=1)\n",
    "        encoded = self.projection(patch) + self.position_embedding(positions)\n",
    "        return encoded\n",
    "\n",
    "    @classmethod\n",
    "    def from_config(cls, config):\n",
    "        config.pop('trainable', None)\n",
    "        return cls(\n",
    "            num_patches=config['num_patches'],\n",
    "            projection_dim=config['projection_dim'],\n",
    "            name=config['name']\n",
    "        )\n"
   ]
  },
  {
   "cell_type": "code",
   "execution_count": 11,
   "metadata": {},
   "outputs": [],
   "source": [
    "class PatchEncoder(layers.Layer):\n",
    "    def __init__(self, num_patches, projection_dim):\n",
    "        super().__init__()\n",
    "        self.num_patches = num_patches\n",
    "        self.projection = layers.Dense(units=projection_dim)\n",
    "        self.position_embedding = layers.Embedding(\n",
    "            input_dim=num_patches, output_dim=projection_dim\n",
    "        )\n",
    "\n",
    "    def call(self, patch):\n",
    "        positions = tf.range(start=0, limit=self.num_patches, delta=1)\n",
    "        encoded = self.projection(patch) + self.position_embedding(positions)\n",
    "        return encoded"
   ]
  },
  {
   "cell_type": "code",
   "execution_count": 173,
   "metadata": {},
   "outputs": [],
   "source": [
    "def create_vit_classifier():\n",
    "    inputs = layers.Input(shape=input_shape)\n",
    "    # Augment data.\n",
    "    augmented = data_augmentation(inputs)\n",
    "    # Create patches.\n",
    "    patches = Patches(patch_size)(augmented)\n",
    "    # Encode patches.\n",
    "    encoded_patches = PatchEncoder(num_patches, projection_dim)(patches)\n",
    "\n",
    "    # Create multiple layers of the Transformer block.\n",
    "    for _ in range(transformer_layers):\n",
    "        # Layer normalization 1.\n",
    "        x1 = layers.LayerNormalization(epsilon=1e-6)(encoded_patches)\n",
    "        # Create a multi-head attention layer.\n",
    "        attention_output = layers.MultiHeadAttention(\n",
    "            num_heads=num_heads, key_dim=projection_dim, dropout=0.1\n",
    "        )(x1, x1)\n",
    "        # Skip connection 1.\n",
    "        x2 = layers.Add()([attention_output, encoded_patches])\n",
    "        # Layer normalization 2.\n",
    "        x3 = layers.LayerNormalization(epsilon=1e-6)(x2)\n",
    "        # MLP.\n",
    "        x3 = mlp(x3, hidden_units=transformer_units, dropout_rate=0.1)\n",
    "        # Skip connection 2.\n",
    "        encoded_patches = layers.Add()([x3, x2])\n",
    "\n",
    "    # Create a [batch_size, projection_dim] tensor.\n",
    "    representation = layers.LayerNormalization(epsilon=1e-6)(encoded_patches)\n",
    "    representation = layers.Flatten()(representation)\n",
    "    representation = layers.Dropout(0.5)(representation)\n",
    "    # Add MLP.\n",
    "    features = mlp(representation, hidden_units=mlp_head_units, dropout_rate=0.5)\n",
    "    # Classify outputs.\n",
    "    logits = layers.Dense(num_classes)(features)\n",
    "    # Create the Keras model.\n",
    "    model = keras.Model(inputs=inputs, outputs=logits)\n",
    "    model.compile(optimizer= 'adam', loss='binary_crossentropy', metrics=['accuracy'])\n",
    "    return model"
   ]
  },
  {
   "cell_type": "code",
   "execution_count": null,
   "metadata": {},
   "outputs": [],
   "source": [
    "def run_experiment(model):\n",
    "    optimizer = tfa.optimizers.AdamW(\n",
    "        learning_rate=learning_rate, weight_decay=weight_decay\n",
    "    )\n",
    "\n",
    "    model.compile(\n",
    "        optimizer=optimizer,\n",
    "        loss=keras.losses.SparseCategoricalCrossentropy(from_logits=True),\n",
    "        metrics=[\n",
    "            keras.metrics.SparseCategoricalAccuracy(name=\"accuracy\"),\n",
    "            keras.metrics.SparseTopKCategoricalAccuracy(5, name=\"top-5-accuracy\"),\n",
    "            keras.metrics.SparseCategoricalCrossentropy(name = \"Crossentropy\"),\n",
    "        ],\n",
    "    )\n",
    "\n",
    "    checkpoint_filepath = \"tmp/checkpoint/\"\n",
    "    checkpoint_callback = keras.callbacks.ModelCheckpoint(\n",
    "        checkpoint_filepath,\n",
    "        monitor=\"val_accuracy\",\n",
    "        save_best_only=True,\n",
    "        save_weights_only=True,\n",
    "    )\n",
    "\n",
    "    history = model.fit(\n",
    "        x=images_arr_train,\n",
    "        y=labels_train,\n",
    "        batch_size=batch_size,\n",
    "        epochs=num_epochs,\n",
    "        validation_split=0.1,\n",
    "        callbacks=[checkpoint_callback],\n",
    "    )\n",
    "\n",
    "    model.load_weights(checkpoint_filepath)\n",
    "    _, accuracy, top_5_accuracy, Crossentropy = model.evaluate(images_arr_train, labels_train)\n",
    "    print(f\"Test accuracy: {round(accuracy * 100, 2)}%\")\n",
    "    print(f\"Test top 5 accuracy: {round(top_5_accuracy * 100, 2)}%\")\n",
    "    print(f\"Test crossentropy: {round(Crossentropy)}%\")\n",
    "\n",
    "    model.save(\"model_cic_400k_31_col_2_.h5\")\n",
    "    return history, model\n",
    "    \n",
    "\n",
    "vit_classifier = create_vit_classifier()\n",
    "history = run_experiment(vit_classifier)\n"
   ]
  },
  {
   "cell_type": "code",
   "execution_count": 180,
   "metadata": {},
   "outputs": [
    {
     "name": "stdout",
     "output_type": "stream",
     "text": [
      "3/3 [==============================] - 6s 1s/step - loss: 0.0113 - accuracy: 1.0000 - top-5-accuracy: 1.0000 - Crossentropy: 1.1050\n",
      "3/3 [==============================] - 6s 1s/step\n",
      "False positives: [0 0 0 0 0 0 0 0]\n",
      "False negatives: [0 0 0 0 0 0 0 0]\n",
      "True negatives: [77 77 77 77 77 77 77 77]\n",
      "True positives: [11 11 11 11 11 11 11 11]\n"
     ]
    },
    {
     "data": {
      "image/png": "[encoded data removed]",
      "text/plain": [
       "<Figure size 640x480 with 2 Axes>"
      ]
     },
     "metadata": {},
     "output_type": "display_data"
    }
   ],
   "source": [
    "#hada\n",
    "import numpy as np\n",
    "import matplotlib.pyplot as plt\n",
    "from sklearn.metrics import confusion_matrix\n",
    "from sklearn import metrics\n",
    "\n",
    "def run_experiment(model_path, test_images, test_labels, batch_size):\n",
    "    # Register the custom layers with the custom_objects parameter\n",
    "    custom_objects = {'Patches': Patches, 'PatchEncoder': PatchEncoder}\n",
    "    model = keras.models.load_model(model_path, custom_objects=custom_objects)  # Load the pre-trained model\n",
    "\n",
    "    metrics = model.evaluate(\n",
    "        x=test_images,\n",
    "        y=test_labels,\n",
    "        batch_size=batch_size\n",
    "    )\n",
    "\n",
    "    return model\n",
    "\n",
    "vit_classifier_path = \"model_cic_400k_31_col_2_99_94.h5\"\n",
    "batch_size = 32\n",
    "test_metrics = run_experiment(vit_classifier_path, images_arr_train, labels_train, batch_size)\n",
    "\n",
    "# Evaluate the model on the test dataset\n",
    "y_pred = test_metrics.predict(images_arr_train)\n",
    "y_pred_classes = np.argmax(y_pred, axis=1)\n",
    "\n",
    "# Compute the confusion matrix\n",
    "conf_matrix = confusion_matrix(labels_train, y_pred_classes)\n",
    "\n",
    "# Compute the false positive rate\n",
    "false_positives = conf_matrix.sum(axis=0) - np.diag(conf_matrix)\n",
    "false_negatives = conf_matrix.sum(axis=1) - np.diag(conf_matrix)\n",
    "true_negatives = conf_matrix.sum() - (false_positives + false_negatives + np.diag(conf_matrix))\n",
    "true_positives = np.diag(conf_matrix)\n",
    "false_positive_rate = false_positives / (false_positives + true_negatives)\n",
    "\n",
    "print(\"False positives:\", false_positives)\n",
    "print(\"False negatives:\", false_negatives)\n",
    "print(\"True negatives:\", true_negatives)\n",
    "print(\"True positives:\", true_positives)\n",
    "\n",
    "conf_mat_display = metrics.ConfusionMatrixDisplay(confusion_matrix=conf_matrix, display_labels=[\"normal\",\"dos\",\"ddos\",\"web atack\",\"botnet\",\"scan\",\"heartbleed\",\"patator\"])\n",
    "conf_mat_display.plot()\n",
    "plt.show()\n"
   ]
  },
  {
   "cell_type": "code",
   "execution_count": null,
   "metadata": {},
   "outputs": [],
   "source": [
    "from sklearn.metrics import confusion_matrix\n",
    "from sklearn import metrics\n",
    "\n",
    "# Evaluate the model on the test dataset\n",
    "y_pred = vit_classifier.predict(images_arr_train)\n",
    "y_pred_classes = np.argmax(y_pred, axis=1)\n",
    "\n",
    "# Compute the confusion matrix\n",
    "conf_matrix = confusion_matrix(labels_train, y_pred_classes)\n",
    "\n",
    "# Compute the false positive rate\n",
    "false_positives = conf_matrix.sum(axis=0) - np.diag(conf_matrix)\n",
    "false_negatives = conf_matrix.sum(axis=1) - np.diag(conf_matrix)\n",
    "true_negatives = conf_matrix.sum() - (false_positives + false_negatives + np.diag(conf_matrix))\n",
    "true_positives = np.diag(conf_matrix)\n",
    "false_positive_rate = false_positives / (false_positives + true_negatives)\n",
    "  \n",
    "print (\"false positives : \" + str (false_positives))\n",
    "print (\"false negatives : \" + str (false_negatives))\n",
    "print(\"true negatives : \" + str (true_negatives))\n",
    "print(\"true positive : \" + str(true_positives))\n",
    "\n",
    "conf_mat_display = metrics.ConfusionMatrixDisplay(confusion_matrix=conf_matrix, display_labels=[\"normal\",\"dos\",\"ddos\",\"web atack\",\"botnet\",\"scan\",\"heartbleed\",\"patator\"])\n",
    "conf_mat_display.plot()\n",
    "plt.show()"
   ]
  }
 ],
 "metadata": {
  "kernelspec": {
   "display_name": "Python 3",
   "language": "python",
   "name": "python3"
  },
  "language_info": {
   "codemirror_mode": {
    "name": "ipython",
    "version": 3
   },
   "file_extension": ".py",
   "mimetype": "text/x-python",
   "name": "python",
   "nbconvert_exporter": "python",
   "pygments_lexer": "ipython3",
   "version": "3.10.8"
  },
  "orig_nbformat": 4,
  "vscode": {
   "interpreter": {
    "hash": "a742be89643b8a827d07bf9c2c4179a99b7c17070cad7fa2c8aeb4216df5d808"
   }
  }
 },
 "nbformat": 4,
 "nbformat_minor": 2
}
